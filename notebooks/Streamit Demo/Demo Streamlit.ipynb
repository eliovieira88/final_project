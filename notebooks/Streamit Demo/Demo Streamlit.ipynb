{
 "cells": [
  {
   "cell_type": "code",
   "execution_count": null,
   "id": "33e78891",
   "metadata": {},
   "outputs": [],
   "source": [
    "import streamlit as st\n",
    "import pandas as pd\n",
    "from joblib import load\n"
   ]
  },
  {
   "cell_type": "code",
   "execution_count": 9,
   "id": "b7ecec17",
   "metadata": {},
   "outputs": [],
   "source": [
    "data_file_path = r'C:\\Users\\Élio Vieira\\Desktop\\IronHack\\final_project\\data\\cleaned data\\df_clicks_filtered_3_countries.csv'\n",
    "df_clicks_filtered_3_countries = pd.read_csv(data_file_path)"
   ]
  },
  {
   "cell_type": "code",
   "execution_count": 10,
   "id": "2b4ffe74",
   "metadata": {},
   "outputs": [
    {
     "name": "stderr",
     "output_type": "stream",
     "text": [
      "2024-04-16 10:07:50.473 \n",
      "  \u001b[33m\u001b[1mWarning:\u001b[0m to view this Streamlit app on a browser, run it with the following\n",
      "  command:\n",
      "\n",
      "    streamlit run C:\\Anaconda\\Lib\\site-packages\\ipykernel_launcher.py [ARGUMENTS]\n"
     ]
    }
   ],
   "source": [
    "loaded_model = load(r'C:\\Users\\Élio Vieira\\Desktop\\IronHack\\final_project\\notebooks\\best_gb_regressor_model.pkl')\n",
    "\n",
    "vertical_options = df_clicks_filtered_3_countries['vertical'].unique()\n",
    "country_options = df_clicks_filtered_3_countries['advertiser_country'].unique()\n",
    "platform_options = df_clicks_filtered_3_countries['advertising_platform_id'].unique()\n",
    "\n",
    "def main():\n",
    "    st.title('Cost per Goal Prediction')\n",
    "    st.write('Please enter the following information:')\n",
    "\n",
    "    vertical = st.selectbox('Vertical', options=vertical_options)\n",
    "    country = st.selectbox('Advertiser Country', options=country_options)\n",
    "    platform = st.selectbox('Advertising Platform ID', options=platform_options)\n",
    "\n",
    "    if st.button('Predict'):\n",
    "        user_data = pd.DataFrame({\n",
    "            'vertical': [vertical],\n",
    "            'advertiser_country': [country],\n",
    "            'advertising_platform_id': [platform]\n",
    "        })\n",
    "\n",
    "        user_data_encoded = pd.DataFrame(columns=df_encoded_3_countries.columns)\n",
    "        user_data_encoded.loc[0] = 0\n",
    "        user_data_encoded['vertical_' + vertical] = 1\n",
    "        user_data_encoded['advertiser_country_' + country] = 1\n",
    "        user_data_encoded['advertising_platform_id_' + platform] = 1\n",
    "\n",
    "        prediction = loaded_model.predict(user_data_encoded)\n",
    "\n",
    "        st.write(f\"Predicted cost_per_goal: {prediction[0]}\")\n",
    "\n",
    "if __name__ == '__main__':\n",
    "    main()\n"
   ]
  },
  {
   "cell_type": "code",
   "execution_count": null,
   "id": "824e4c9e",
   "metadata": {},
   "outputs": [],
   "source": []
  },
  {
   "cell_type": "code",
   "execution_count": null,
   "id": "91a01615",
   "metadata": {},
   "outputs": [],
   "source": []
  }
 ],
 "metadata": {
  "kernelspec": {
   "display_name": "Python 3 (ipykernel)",
   "language": "python",
   "name": "python3"
  },
  "language_info": {
   "codemirror_mode": {
    "name": "ipython",
    "version": 3
   },
   "file_extension": ".py",
   "mimetype": "text/x-python",
   "name": "python",
   "nbconvert_exporter": "python",
   "pygments_lexer": "ipython3",
   "version": "3.11.5"
  }
 },
 "nbformat": 4,
 "nbformat_minor": 5
}
