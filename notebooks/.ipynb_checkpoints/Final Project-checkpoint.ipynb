{
 "cells": [
  {
   "cell_type": "code",
   "execution_count": 83,
   "id": "26d93b80",
   "metadata": {},
   "outputs": [],
   "source": [
    "import pandas as pd\n",
    "from datetime import datetime\n",
    "import seaborn as sns\n",
    "import matplotlib.pyplot as plt\n",
    "from scipy.stats import f_oneway\n",
    "import numpy as np\n",
    "from scipy.stats import zscore\n",
    "from sklearn.neighbors import KNeighborsRegressor\n",
    "from sklearn.metrics import mean_absolute_error, mean_squared_error, r2_score\n",
    "from sklearn.preprocessing import MinMaxScaler, StandardScaler, RobustScaler, MaxAbsScaler, QuantileTransformer, PowerTransformer\n",
    "from sklearn.ensemble import AdaBoostRegressor\n",
    "from sklearn.model_selection import train_test_split\n",
    "from sklearn.linear_model import LinearRegression\n",
    "from sklearn.tree import DecisionTreeRegressor\n",
    "from sklearn.ensemble import RandomForestRegressor, GradientBoostingRegressor\n",
    "from sklearn.metrics import mean_squared_error\n",
    "from sklearn.model_selection import GridSearchCV\n",
    "from sklearn.model_selection import RandomizedSearchCV\n",
    "from sklearn.ensemble import RandomForestClassifier\n",
    "from sklearn.ensemble import RandomForestRegressor\n",
    "from xgboost import XGBRegressor\n",
    "from sklearn.tree import plot_tree\n",
    "import joblib"
   ]
  },
  {
   "cell_type": "code",
   "execution_count": 2,
   "id": "b569da5e",
   "metadata": {},
   "outputs": [],
   "source": [
    "df = pd.read_csv(r'C:\\Users\\Élio Vieira\\Desktop\\IronHack\\final_project\\data\\raw data\\data_leadzai_ironhack.csv')\n",
    "df_original = pd.read_csv(r'C:\\Users\\Élio Vieira\\Desktop\\IronHack\\final_project\\data\\raw data\\data_leadzai_ironhack.csv')"
   ]
  },
  {
   "cell_type": "code",
   "execution_count": 3,
   "id": "a676937f",
   "metadata": {
    "scrolled": true
   },
   "outputs": [
    {
     "data": {
      "text/html": [
       "<div>\n",
       "<style scoped>\n",
       "    .dataframe tbody tr th:only-of-type {\n",
       "        vertical-align: middle;\n",
       "    }\n",
       "\n",
       "    .dataframe tbody tr th {\n",
       "        vertical-align: top;\n",
       "    }\n",
       "\n",
       "    .dataframe thead th {\n",
       "        text-align: right;\n",
       "    }\n",
       "</style>\n",
       "<table border=\"1\" class=\"dataframe\">\n",
       "  <thead>\n",
       "    <tr style=\"text-align: right;\">\n",
       "      <th></th>\n",
       "      <th>campaign_id</th>\n",
       "      <th>vertical</th>\n",
       "      <th>partner_name</th>\n",
       "      <th>internal_state_id</th>\n",
       "      <th>goal_id</th>\n",
       "      <th>state_id</th>\n",
       "      <th>advertiser_country</th>\n",
       "      <th>created_date</th>\n",
       "      <th>schedule_start</th>\n",
       "      <th>schedule_end</th>\n",
       "      <th>max_goals</th>\n",
       "      <th>cost_per_goal</th>\n",
       "      <th>input_amount</th>\n",
       "      <th>advertising_platform_id</th>\n",
       "    </tr>\n",
       "  </thead>\n",
       "  <tbody>\n",
       "    <tr>\n",
       "      <th>0</th>\n",
       "      <td>1</td>\n",
       "      <td>Interior Design &amp; Furniture</td>\n",
       "      <td>Partner C</td>\n",
       "      <td>no_funds</td>\n",
       "      <td>clicks</td>\n",
       "      <td>enabled</td>\n",
       "      <td>BE</td>\n",
       "      <td>Feb 17, 2022, 9:24:34 AM</td>\n",
       "      <td>Mar 7, 2022</td>\n",
       "      <td>NaN</td>\n",
       "      <td>4752.0</td>\n",
       "      <td>0.11</td>\n",
       "      <td>522.7200</td>\n",
       "      <td>NaN</td>\n",
       "    </tr>\n",
       "    <tr>\n",
       "      <th>1</th>\n",
       "      <td>2</td>\n",
       "      <td>Cars &amp; Motorbikes</td>\n",
       "      <td>Partner C</td>\n",
       "      <td>enabled</td>\n",
       "      <td>clicks</td>\n",
       "      <td>enabled</td>\n",
       "      <td>BE</td>\n",
       "      <td>Jun 7, 2022, 9:46:55 AM</td>\n",
       "      <td>Jun 7, 2022</td>\n",
       "      <td>NaN</td>\n",
       "      <td>4720.0</td>\n",
       "      <td>0.19</td>\n",
       "      <td>896.8000</td>\n",
       "      <td>NaN</td>\n",
       "    </tr>\n",
       "    <tr>\n",
       "      <th>2</th>\n",
       "      <td>3</td>\n",
       "      <td>Health</td>\n",
       "      <td>Partner B</td>\n",
       "      <td>enabled</td>\n",
       "      <td>clicks</td>\n",
       "      <td>paused</td>\n",
       "      <td>ES</td>\n",
       "      <td>Sep 1, 2021, 6:37:09 PM</td>\n",
       "      <td>Sep 15, 2020</td>\n",
       "      <td>Dec 14, 2021</td>\n",
       "      <td>4375.0</td>\n",
       "      <td>0.02</td>\n",
       "      <td>87.5000</td>\n",
       "      <td>NaN</td>\n",
       "    </tr>\n",
       "    <tr>\n",
       "      <th>3</th>\n",
       "      <td>4</td>\n",
       "      <td>Agriculture</td>\n",
       "      <td>Partner B</td>\n",
       "      <td>enabled</td>\n",
       "      <td>clicks</td>\n",
       "      <td>paused</td>\n",
       "      <td>ES</td>\n",
       "      <td>Sep 1, 2021, 3:25:41 PM</td>\n",
       "      <td>Jul 17, 2020</td>\n",
       "      <td>Nov 9, 2021</td>\n",
       "      <td>4184.0</td>\n",
       "      <td>0.02</td>\n",
       "      <td>83.6800</td>\n",
       "      <td>NaN</td>\n",
       "    </tr>\n",
       "    <tr>\n",
       "      <th>4</th>\n",
       "      <td>5</td>\n",
       "      <td>Health</td>\n",
       "      <td>Partner B</td>\n",
       "      <td>enabled</td>\n",
       "      <td>clicks</td>\n",
       "      <td>paused</td>\n",
       "      <td>ES</td>\n",
       "      <td>Sep 1, 2021, 6:27:55 PM</td>\n",
       "      <td>Sep 15, 2020</td>\n",
       "      <td>Nov 14, 2021</td>\n",
       "      <td>3116.0</td>\n",
       "      <td>0.02</td>\n",
       "      <td>62.3200</td>\n",
       "      <td>NaN</td>\n",
       "    </tr>\n",
       "    <tr>\n",
       "      <th>...</th>\n",
       "      <td>...</td>\n",
       "      <td>...</td>\n",
       "      <td>...</td>\n",
       "      <td>...</td>\n",
       "      <td>...</td>\n",
       "      <td>...</td>\n",
       "      <td>...</td>\n",
       "      <td>...</td>\n",
       "      <td>...</td>\n",
       "      <td>...</td>\n",
       "      <td>...</td>\n",
       "      <td>...</td>\n",
       "      <td>...</td>\n",
       "      <td>...</td>\n",
       "    </tr>\n",
       "    <tr>\n",
       "      <th>22362</th>\n",
       "      <td>22363</td>\n",
       "      <td>Finance</td>\n",
       "      <td>Partner C</td>\n",
       "      <td>no_funds</td>\n",
       "      <td>clicks</td>\n",
       "      <td>enabled</td>\n",
       "      <td>BE</td>\n",
       "      <td>Feb 9, 2022, 12:44:05 PM</td>\n",
       "      <td>Feb 9, 2022</td>\n",
       "      <td>NaN</td>\n",
       "      <td>NaN</td>\n",
       "      <td>NaN</td>\n",
       "      <td>NaN</td>\n",
       "      <td>NaN</td>\n",
       "    </tr>\n",
       "    <tr>\n",
       "      <th>22363</th>\n",
       "      <td>22364</td>\n",
       "      <td>Finance</td>\n",
       "      <td>Partner C</td>\n",
       "      <td>no_funds</td>\n",
       "      <td>clicks</td>\n",
       "      <td>enabled</td>\n",
       "      <td>BE</td>\n",
       "      <td>Feb 9, 2022, 12:40:30 PM</td>\n",
       "      <td>Feb 9, 2022</td>\n",
       "      <td>NaN</td>\n",
       "      <td>NaN</td>\n",
       "      <td>NaN</td>\n",
       "      <td>NaN</td>\n",
       "      <td>NaN</td>\n",
       "    </tr>\n",
       "    <tr>\n",
       "      <th>22364</th>\n",
       "      <td>22365</td>\n",
       "      <td>Home Improvement &amp; Maintenance</td>\n",
       "      <td>Partner C</td>\n",
       "      <td>no_funds</td>\n",
       "      <td>clicks</td>\n",
       "      <td>enabled</td>\n",
       "      <td>BE</td>\n",
       "      <td>Mar 17, 2022, 1:53:56 PM</td>\n",
       "      <td>Mar 17, 2022</td>\n",
       "      <td>NaN</td>\n",
       "      <td>NaN</td>\n",
       "      <td>0.33</td>\n",
       "      <td>100.0000</td>\n",
       "      <td>NaN</td>\n",
       "    </tr>\n",
       "    <tr>\n",
       "      <th>22365</th>\n",
       "      <td>22366</td>\n",
       "      <td>Home Improvement &amp; Maintenance</td>\n",
       "      <td>Partner C</td>\n",
       "      <td>no_funds</td>\n",
       "      <td>clicks</td>\n",
       "      <td>enabled</td>\n",
       "      <td>BE</td>\n",
       "      <td>Jun 21, 2021, 8:07:48 AM</td>\n",
       "      <td>Jun 21, 2021</td>\n",
       "      <td>NaN</td>\n",
       "      <td>NaN</td>\n",
       "      <td>0.76</td>\n",
       "      <td>679.4400</td>\n",
       "      <td>NaN</td>\n",
       "    </tr>\n",
       "    <tr>\n",
       "      <th>22366</th>\n",
       "      <td>22367</td>\n",
       "      <td>Flowers &amp; Plants</td>\n",
       "      <td>Partner C</td>\n",
       "      <td>no_funds</td>\n",
       "      <td>clicks</td>\n",
       "      <td>enabled</td>\n",
       "      <td>AF</td>\n",
       "      <td>Mar 31, 2021, 1:53:22 PM</td>\n",
       "      <td>Mar 31, 2021</td>\n",
       "      <td>NaN</td>\n",
       "      <td>NaN</td>\n",
       "      <td>1.98</td>\n",
       "      <td>1095.1474</td>\n",
       "      <td>NaN</td>\n",
       "    </tr>\n",
       "  </tbody>\n",
       "</table>\n",
       "<p>22367 rows × 14 columns</p>\n",
       "</div>"
      ],
      "text/plain": [
       "       campaign_id                        vertical partner_name  \\\n",
       "0                1     Interior Design & Furniture    Partner C   \n",
       "1                2               Cars & Motorbikes    Partner C   \n",
       "2                3                          Health    Partner B   \n",
       "3                4                     Agriculture    Partner B   \n",
       "4                5                          Health    Partner B   \n",
       "...            ...                             ...          ...   \n",
       "22362        22363                         Finance    Partner C   \n",
       "22363        22364                         Finance    Partner C   \n",
       "22364        22365  Home Improvement & Maintenance    Partner C   \n",
       "22365        22366  Home Improvement & Maintenance    Partner C   \n",
       "22366        22367                Flowers & Plants    Partner C   \n",
       "\n",
       "      internal_state_id goal_id state_id advertiser_country  \\\n",
       "0              no_funds  clicks  enabled                 BE   \n",
       "1               enabled  clicks  enabled                 BE   \n",
       "2               enabled  clicks   paused                 ES   \n",
       "3               enabled  clicks   paused                 ES   \n",
       "4               enabled  clicks   paused                 ES   \n",
       "...                 ...     ...      ...                ...   \n",
       "22362          no_funds  clicks  enabled                 BE   \n",
       "22363          no_funds  clicks  enabled                 BE   \n",
       "22364          no_funds  clicks  enabled                 BE   \n",
       "22365          no_funds  clicks  enabled                 BE   \n",
       "22366          no_funds  clicks  enabled                 AF   \n",
       "\n",
       "                   created_date schedule_start  schedule_end  max_goals  \\\n",
       "0      Feb 17, 2022, 9:24:34 AM    Mar 7, 2022           NaN     4752.0   \n",
       "1       Jun 7, 2022, 9:46:55 AM    Jun 7, 2022           NaN     4720.0   \n",
       "2       Sep 1, 2021, 6:37:09 PM   Sep 15, 2020  Dec 14, 2021     4375.0   \n",
       "3       Sep 1, 2021, 3:25:41 PM   Jul 17, 2020   Nov 9, 2021     4184.0   \n",
       "4       Sep 1, 2021, 6:27:55 PM   Sep 15, 2020  Nov 14, 2021     3116.0   \n",
       "...                         ...            ...           ...        ...   \n",
       "22362  Feb 9, 2022, 12:44:05 PM    Feb 9, 2022           NaN        NaN   \n",
       "22363  Feb 9, 2022, 12:40:30 PM    Feb 9, 2022           NaN        NaN   \n",
       "22364  Mar 17, 2022, 1:53:56 PM   Mar 17, 2022           NaN        NaN   \n",
       "22365  Jun 21, 2021, 8:07:48 AM   Jun 21, 2021           NaN        NaN   \n",
       "22366  Mar 31, 2021, 1:53:22 PM   Mar 31, 2021           NaN        NaN   \n",
       "\n",
       "       cost_per_goal  input_amount advertising_platform_id  \n",
       "0               0.11      522.7200                     NaN  \n",
       "1               0.19      896.8000                     NaN  \n",
       "2               0.02       87.5000                     NaN  \n",
       "3               0.02       83.6800                     NaN  \n",
       "4               0.02       62.3200                     NaN  \n",
       "...              ...           ...                     ...  \n",
       "22362            NaN           NaN                     NaN  \n",
       "22363            NaN           NaN                     NaN  \n",
       "22364           0.33      100.0000                     NaN  \n",
       "22365           0.76      679.4400                     NaN  \n",
       "22366           1.98     1095.1474                     NaN  \n",
       "\n",
       "[22367 rows x 14 columns]"
      ]
     },
     "execution_count": 3,
     "metadata": {},
     "output_type": "execute_result"
    }
   ],
   "source": [
    "df"
   ]
  },
  {
   "cell_type": "markdown",
   "id": "97805a43",
   "metadata": {},
   "source": [
    "## Data Cleaning"
   ]
  },
  {
   "cell_type": "markdown",
   "id": "cec6f2af",
   "metadata": {},
   "source": [
    "##### Summary"
   ]
  },
  {
   "cell_type": "markdown",
   "id": "47d08de0",
   "metadata": {},
   "source": [
    "1. I first checked the amount of NaN values per column."
   ]
  },
  {
   "cell_type": "markdown",
   "id": "d7472392",
   "metadata": {},
   "source": [
    "2. The max_goals column contains 9207 NaN values out of 11287, in which case dropping the NaN values would impair the analysis. So we conclude that max_goals is equal to imout_amount divided by cost_per_goal and we calculate the values to replace the NaN values."
   ]
  },
  {
   "cell_type": "markdown",
   "id": "597fadef",
   "metadata": {},
   "source": [
    "3. I noticed that there was also a lot of NaN in the ads_aggregate_state column, so I dropped it because I can use only the state_id column."
   ]
  },
  {
   "cell_type": "code",
   "execution_count": 4,
   "id": "a87f9a48",
   "metadata": {},
   "outputs": [],
   "source": [
    "df['max_goals'] = df['input_amount'] / df['cost_per_goal']\n",
    "\n",
    "df['max_goals'].fillna(df['max_goals'], inplace=True)"
   ]
  },
  {
   "cell_type": "code",
   "execution_count": 5,
   "id": "4183bea7",
   "metadata": {},
   "outputs": [],
   "source": [
    "df.drop(columns=['created_date'], inplace=True)"
   ]
  },
  {
   "cell_type": "code",
   "execution_count": 6,
   "id": "c2a99ae7",
   "metadata": {},
   "outputs": [],
   "source": [
    "df.dropna(subset=['advertising_platform_id'], inplace=True)"
   ]
  },
  {
   "cell_type": "code",
   "execution_count": 7,
   "id": "b651bcb6",
   "metadata": {},
   "outputs": [],
   "source": [
    "df['schedule_end'].fillna('On Going', inplace=True)"
   ]
  },
  {
   "cell_type": "code",
   "execution_count": 8,
   "id": "0473f313",
   "metadata": {},
   "outputs": [],
   "source": [
    "df['start_year'] = pd.to_datetime(df['schedule_start'], format=\"%b %d, %Y\").dt.year"
   ]
  },
  {
   "cell_type": "code",
   "execution_count": 9,
   "id": "18630125",
   "metadata": {},
   "outputs": [
    {
     "data": {
      "text/plain": [
       "campaign_id                0\n",
       "vertical                   0\n",
       "partner_name               0\n",
       "internal_state_id          0\n",
       "goal_id                    0\n",
       "state_id                   0\n",
       "advertiser_country         0\n",
       "schedule_start             0\n",
       "schedule_end               0\n",
       "max_goals                  0\n",
       "cost_per_goal              0\n",
       "input_amount               0\n",
       "advertising_platform_id    0\n",
       "start_year                 0\n",
       "dtype: int64"
      ]
     },
     "execution_count": 9,
     "metadata": {},
     "output_type": "execute_result"
    }
   ],
   "source": [
    "df.isna().sum()"
   ]
  },
  {
   "cell_type": "markdown",
   "id": "74bf40d2",
   "metadata": {},
   "source": [
    "## Data Formatting"
   ]
  },
  {
   "cell_type": "code",
   "execution_count": 10,
   "id": "ae3c4faf",
   "metadata": {},
   "outputs": [],
   "source": [
    "columns_to_round = ['cost_per_goal', 'input_amount']\n",
    "df[columns_to_round] = df[columns_to_round].round(2)"
   ]
  },
  {
   "cell_type": "code",
   "execution_count": 11,
   "id": "0f91825e",
   "metadata": {},
   "outputs": [],
   "source": [
    "df['max_goals'] = df['max_goals'].astype(int).astype(str)"
   ]
  },
  {
   "cell_type": "code",
   "execution_count": 12,
   "id": "ed2d0424",
   "metadata": {},
   "outputs": [
    {
     "data": {
      "text/plain": [
       "vertical\n",
       "Home Improvement & Maintenance    3542\n",
       "Others                            1776\n",
       "Health                            1717\n",
       "Industrial                        1512\n",
       "Cars & Motorbikes                  831\n",
       "Business                           777\n",
       "Electronics                        434\n",
       "Transport & Logistics              427\n",
       "Food & Drinks                      424\n",
       "Legal & Law                        372\n",
       "Funeral Services                   330\n",
       "Beauty                             313\n",
       "Interior Design & Furniture        313\n",
       "Restaurant                         309\n",
       "Environment                        303\n",
       "Animals & Pets                     256\n",
       "School                             234\n",
       "Accommodation & Hotels             233\n",
       "Real Estate                        229\n",
       "Fashion & Clothing                 226\n",
       "Agriculture                        223\n",
       "Security                           181\n",
       "Pharmacy                           144\n",
       "Flowers & Plants                   109\n",
       "Accounting                         101\n",
       "Finance                             90\n",
       "Jewelry                             90\n",
       "Insurances                          83\n",
       "Hair care                           80\n",
       "Lifestyle                           79\n",
       "Name: count, dtype: int64"
      ]
     },
     "execution_count": 12,
     "metadata": {},
     "output_type": "execute_result"
    }
   ],
   "source": [
    "df['vertical'].value_counts().head(30)"
   ]
  },
  {
   "cell_type": "code",
   "execution_count": 13,
   "id": "abcdfc15",
   "metadata": {},
   "outputs": [
    {
     "data": {
      "text/plain": [
       "campaign_id                  int64\n",
       "vertical                    object\n",
       "partner_name                object\n",
       "internal_state_id           object\n",
       "goal_id                     object\n",
       "state_id                    object\n",
       "advertiser_country          object\n",
       "schedule_start              object\n",
       "schedule_end                object\n",
       "max_goals                   object\n",
       "cost_per_goal              float64\n",
       "input_amount               float64\n",
       "advertising_platform_id     object\n",
       "start_year                   int32\n",
       "dtype: object"
      ]
     },
     "execution_count": 13,
     "metadata": {},
     "output_type": "execute_result"
    }
   ],
   "source": [
    "df.dtypes"
   ]
  },
  {
   "cell_type": "code",
   "execution_count": 14,
   "id": "899a9262",
   "metadata": {},
   "outputs": [],
   "source": [
    "df['max_goals'] = df['max_goals'].astype(int)"
   ]
  },
  {
   "cell_type": "code",
   "execution_count": 15,
   "id": "87ca0e4b",
   "metadata": {},
   "outputs": [],
   "source": [
    "df['campaign_id'] = df['campaign_id'].astype(str)"
   ]
  },
  {
   "cell_type": "markdown",
   "id": "8a7da007",
   "metadata": {},
   "source": [
    "## Splitting data"
   ]
  },
  {
   "cell_type": "code",
   "execution_count": 16,
   "id": "8ab8a8ee",
   "metadata": {},
   "outputs": [],
   "source": [
    "df_clicks = df[df['goal_id'] == 'clicks']\n",
    "df_webforms = df[df['goal_id'] == 'webform']"
   ]
  },
  {
   "cell_type": "markdown",
   "id": "6bc77be6",
   "metadata": {},
   "source": [
    "## Data Analysis"
   ]
  },
  {
   "cell_type": "code",
   "execution_count": 17,
   "id": "74df8dbc",
   "metadata": {},
   "outputs": [
    {
     "data": {
      "text/html": [
       "<div>\n",
       "<style scoped>\n",
       "    .dataframe tbody tr th:only-of-type {\n",
       "        vertical-align: middle;\n",
       "    }\n",
       "\n",
       "    .dataframe tbody tr th {\n",
       "        vertical-align: top;\n",
       "    }\n",
       "\n",
       "    .dataframe thead th {\n",
       "        text-align: right;\n",
       "    }\n",
       "</style>\n",
       "<table border=\"1\" class=\"dataframe\">\n",
       "  <thead>\n",
       "    <tr style=\"text-align: right;\">\n",
       "      <th></th>\n",
       "      <th>max_goals</th>\n",
       "      <th>cost_per_goal</th>\n",
       "      <th>input_amount</th>\n",
       "      <th>start_year</th>\n",
       "    </tr>\n",
       "  </thead>\n",
       "  <tbody>\n",
       "    <tr>\n",
       "      <th>count</th>\n",
       "      <td>16636.000000</td>\n",
       "      <td>16636.000000</td>\n",
       "      <td>16636.000000</td>\n",
       "      <td>16636.000000</td>\n",
       "    </tr>\n",
       "    <tr>\n",
       "      <th>mean</th>\n",
       "      <td>220.095456</td>\n",
       "      <td>0.596573</td>\n",
       "      <td>81.053580</td>\n",
       "      <td>2021.527230</td>\n",
       "    </tr>\n",
       "    <tr>\n",
       "      <th>std</th>\n",
       "      <td>305.695573</td>\n",
       "      <td>0.506507</td>\n",
       "      <td>63.566323</td>\n",
       "      <td>1.159964</td>\n",
       "    </tr>\n",
       "    <tr>\n",
       "      <th>min</th>\n",
       "      <td>0.000000</td>\n",
       "      <td>0.010000</td>\n",
       "      <td>0.000000</td>\n",
       "      <td>2017.000000</td>\n",
       "    </tr>\n",
       "    <tr>\n",
       "      <th>25%</th>\n",
       "      <td>85.000000</td>\n",
       "      <td>0.280000</td>\n",
       "      <td>55.000000</td>\n",
       "      <td>2021.000000</td>\n",
       "    </tr>\n",
       "    <tr>\n",
       "      <th>50%</th>\n",
       "      <td>148.000000</td>\n",
       "      <td>0.460000</td>\n",
       "      <td>63.700000</td>\n",
       "      <td>2021.000000</td>\n",
       "    </tr>\n",
       "    <tr>\n",
       "      <th>75%</th>\n",
       "      <td>252.000000</td>\n",
       "      <td>0.710000</td>\n",
       "      <td>95.550000</td>\n",
       "      <td>2023.000000</td>\n",
       "    </tr>\n",
       "    <tr>\n",
       "      <th>max</th>\n",
       "      <td>11752.000000</td>\n",
       "      <td>5.540000</td>\n",
       "      <td>1200.000000</td>\n",
       "      <td>2024.000000</td>\n",
       "    </tr>\n",
       "  </tbody>\n",
       "</table>\n",
       "</div>"
      ],
      "text/plain": [
       "          max_goals  cost_per_goal  input_amount    start_year\n",
       "count  16636.000000   16636.000000  16636.000000  16636.000000\n",
       "mean     220.095456       0.596573     81.053580   2021.527230\n",
       "std      305.695573       0.506507     63.566323      1.159964\n",
       "min        0.000000       0.010000      0.000000   2017.000000\n",
       "25%       85.000000       0.280000     55.000000   2021.000000\n",
       "50%      148.000000       0.460000     63.700000   2021.000000\n",
       "75%      252.000000       0.710000     95.550000   2023.000000\n",
       "max    11752.000000       5.540000   1200.000000   2024.000000"
      ]
     },
     "execution_count": 17,
     "metadata": {},
     "output_type": "execute_result"
    }
   ],
   "source": [
    "df_describe_clicks = df_clicks.describe()\n",
    "df_describe_clicks"
   ]
  },
  {
   "cell_type": "code",
   "execution_count": 18,
   "id": "4d720be8",
   "metadata": {},
   "outputs": [
    {
     "data": {
      "text/html": [
       "<div>\n",
       "<style scoped>\n",
       "    .dataframe tbody tr th:only-of-type {\n",
       "        vertical-align: middle;\n",
       "    }\n",
       "\n",
       "    .dataframe tbody tr th {\n",
       "        vertical-align: top;\n",
       "    }\n",
       "\n",
       "    .dataframe thead th {\n",
       "        text-align: right;\n",
       "    }\n",
       "</style>\n",
       "<table border=\"1\" class=\"dataframe\">\n",
       "  <thead>\n",
       "    <tr style=\"text-align: right;\">\n",
       "      <th></th>\n",
       "      <th>max_goals</th>\n",
       "      <th>cost_per_goal</th>\n",
       "      <th>input_amount</th>\n",
       "      <th>start_year</th>\n",
       "    </tr>\n",
       "  </thead>\n",
       "  <tbody>\n",
       "    <tr>\n",
       "      <th>max_goals</th>\n",
       "      <td>1.000000</td>\n",
       "      <td>-0.326197</td>\n",
       "      <td>0.536055</td>\n",
       "      <td>-0.101573</td>\n",
       "    </tr>\n",
       "    <tr>\n",
       "      <th>cost_per_goal</th>\n",
       "      <td>-0.326197</td>\n",
       "      <td>1.000000</td>\n",
       "      <td>0.078534</td>\n",
       "      <td>0.266224</td>\n",
       "    </tr>\n",
       "    <tr>\n",
       "      <th>input_amount</th>\n",
       "      <td>0.536055</td>\n",
       "      <td>0.078534</td>\n",
       "      <td>1.000000</td>\n",
       "      <td>0.107129</td>\n",
       "    </tr>\n",
       "    <tr>\n",
       "      <th>start_year</th>\n",
       "      <td>-0.101573</td>\n",
       "      <td>0.266224</td>\n",
       "      <td>0.107129</td>\n",
       "      <td>1.000000</td>\n",
       "    </tr>\n",
       "  </tbody>\n",
       "</table>\n",
       "</div>"
      ],
      "text/plain": [
       "               max_goals  cost_per_goal  input_amount  start_year\n",
       "max_goals       1.000000      -0.326197      0.536055   -0.101573\n",
       "cost_per_goal  -0.326197       1.000000      0.078534    0.266224\n",
       "input_amount    0.536055       0.078534      1.000000    0.107129\n",
       "start_year     -0.101573       0.266224      0.107129    1.000000"
      ]
     },
     "execution_count": 18,
     "metadata": {},
     "output_type": "execute_result"
    }
   ],
   "source": [
    "df_numeric_clicks = df_clicks.select_dtypes(include=['number'])\n",
    "correlation_matrix = df_numeric_clicks.corr()\n",
    "correlation_matrix"
   ]
  },
  {
   "cell_type": "code",
   "execution_count": 19,
   "id": "879e8049",
   "metadata": {},
   "outputs": [
    {
     "data": {
      "image/png": "[encoded data removed]",
      "text/plain": [
       "<Figure size 600x400 with 2 Axes>"
      ]
     },
     "metadata": {},
     "output_type": "display_data"
    }
   ],
   "source": [
    "plt.figure(figsize=(6, 4))\n",
    "sns.heatmap(correlation_matrix, annot=True, cmap='coolwarm', fmt=\".2f\", square=True)\n",
    "plt.title('Correlation Matrix Heatmap')\n",
    "plt.show()"
   ]
  },
  {
   "cell_type": "markdown",
   "id": "f253e993",
   "metadata": {},
   "source": [
    "ANOVA CPG vs VERTICAL"
   ]
  },
  {
   "cell_type": "code",
   "execution_count": 20,
   "id": "ea5d86f0",
   "metadata": {},
   "outputs": [
    {
     "name": "stdout",
     "output_type": "stream",
     "text": [
      "F-statistic: 9.797626999166106\n",
      "P-value: 4.236604620218479e-98\n"
     ]
    }
   ],
   "source": [
    "numerical_column_cost_per_goal_clicks = df_clicks['cost_per_goal']\n",
    "categorical_column_vertical_clicks = df_clicks['vertical']\n",
    "\n",
    "f_statistic, p_value = f_oneway(*[numerical_column_cost_per_goal_clicks[categorical_column_vertical_clicks == category] for category in categorical_column_vertical_clicks.unique()])\n",
    "\n",
    "print(\"F-statistic:\", f_statistic)\n",
    "print(\"P-value:\", p_value)"
   ]
  },
  {
   "cell_type": "markdown",
   "id": "c231525b",
   "metadata": {},
   "source": [
    "Interpretation:\n",
    "\n",
    "Since the p-value is much smaller than the significance level (e.g., 0.05), we reject the null hypothesis.\n",
    "Therefore, we conclude that there is a significant difference in the means of the 'cost_per_goal' variable across different categories of the 'vertical' variable.\n",
    "In other words, the 'vertical' variable likely has a significant effect on the 'cost_per_goal', and there are meaningful differences in 'cost_per_goal' among different categories of 'vertical'."
   ]
  },
  {
   "cell_type": "markdown",
   "id": "6969dced",
   "metadata": {},
   "source": [
    "ANOVA CPG vs PLATFORM"
   ]
  },
  {
   "cell_type": "code",
   "execution_count": 21,
   "id": "a728dad6",
   "metadata": {},
   "outputs": [
    {
     "name": "stdout",
     "output_type": "stream",
     "text": [
      "F-statistic: 5.989469383039826\n",
      "P-value: 0.002510398843399203\n"
     ]
    }
   ],
   "source": [
    "numerical_column_cost_per_goal_clicks = df_clicks['cost_per_goal']\n",
    "categorical_column_advertising_platform_id_clicks = df_clicks['advertising_platform_id']\n",
    "\n",
    "f_statistic, p_value = f_oneway(*[numerical_column_cost_per_goal_clicks[categorical_column_advertising_platform_id_clicks == category] for category in categorical_column_advertising_platform_id_clicks.unique()])\n",
    "\n",
    "print(\"F-statistic:\", f_statistic)\n",
    "print(\"P-value:\", p_value)"
   ]
  },
  {
   "cell_type": "markdown",
   "id": "b89013c2",
   "metadata": {},
   "source": [
    "ANOVA CPG vs COUNTRY"
   ]
  },
  {
   "cell_type": "code",
   "execution_count": 22,
   "id": "545a3c87",
   "metadata": {},
   "outputs": [
    {
     "name": "stdout",
     "output_type": "stream",
     "text": [
      "F-statistic: 115.77836128772661\n",
      "P-value: 3.274400425025525e-234\n"
     ]
    }
   ],
   "source": [
    "numerical_column_cost_per_goal_clicks = df_clicks['cost_per_goal']\n",
    "categorical_column_advertiser_country_clicks = df_clicks['advertiser_country']\n",
    "\n",
    "f_statistic, p_value = f_oneway(*[numerical_column_cost_per_goal_clicks[categorical_column_advertiser_country_clicks == category] for category in categorical_column_advertiser_country_clicks.unique()])\n",
    "\n",
    "print(\"F-statistic:\", f_statistic)\n",
    "print(\"P-value:\", p_value)"
   ]
  },
  {
   "cell_type": "markdown",
   "id": "6b719063",
   "metadata": {},
   "source": [
    "Interpretation:\n",
    "\n",
    "Since the p-value is much smaller than the significance level (e.g., 0.05), we reject the null hypothesis.\n",
    "Therefore, we conclude that there is a significant difference in the means of the 'cost_per_goal' variable across different categories of the 'advertiser_country' variable.\n",
    "In other words, the 'advertiser_country' variable likely has a significant effect on the 'cost_per_goal', and there are meaningful differences in 'cost_per_goal' among different countries of advertisers."
   ]
  },
  {
   "cell_type": "code",
   "execution_count": 23,
   "id": "81f10170",
   "metadata": {},
   "outputs": [
    {
     "data": {
      "image/png": "[encoded data removed]",
      "text/plain": [
       "<Figure size 640x480 with 1 Axes>"
      ]
     },
     "metadata": {},
     "output_type": "display_data"
    }
   ],
   "source": [
    "data = df_clicks[['cost_per_goal']]\n",
    "\n",
    "sns.boxplot(data=data, color=\"lightblue\")\n",
    "plt.title('Boxplot of cost_per_goal')\n",
    "plt.xlabel('cost_per_goal')\n",
    "plt.show()"
   ]
  },
  {
   "cell_type": "code",
   "execution_count": 24,
   "id": "870b8e01",
   "metadata": {},
   "outputs": [
    {
     "name": "stdout",
     "output_type": "stream",
     "text": [
      "3836     2.17\n",
      "3847     3.00\n",
      "3850     2.17\n",
      "3861     2.38\n",
      "3863     2.55\n",
      "         ... \n",
      "21579    3.00\n",
      "21629    2.25\n",
      "21659    3.00\n",
      "21683    2.86\n",
      "21701    2.39\n",
      "Name: cost_per_goal, Length: 463, dtype: float64\n"
     ]
    }
   ],
   "source": [
    "column_data = df_clicks['cost_per_goal']\n",
    "z_scores = zscore(column_data)\n",
    "threshold = 3\n",
    "outliers = np.abs(z_scores) > threshold\n",
    "print(column_data[outliers])"
   ]
  },
  {
   "cell_type": "code",
   "execution_count": 25,
   "id": "f2c25c6e",
   "metadata": {},
   "outputs": [
    {
     "data": {
      "text/plain": [
       "463"
      ]
     },
     "execution_count": 25,
     "metadata": {},
     "output_type": "execute_result"
    }
   ],
   "source": [
    "number_of_outliers = column_data[outliers].count()\n",
    "number_of_outliers"
   ]
  },
  {
   "cell_type": "code",
   "execution_count": 26,
   "id": "6c2c479f",
   "metadata": {},
   "outputs": [
    {
     "data": {
      "text/plain": [
       "<Axes: xlabel='cost_per_goal', ylabel='Count'>"
      ]
     },
     "execution_count": 26,
     "metadata": {},
     "output_type": "execute_result"
    },
    {
     "data": {
      "image/png": "[encoded data removed]",
      "text/plain": [
       "<Figure size 640x480 with 1 Axes>"
      ]
     },
     "metadata": {},
     "output_type": "display_data"
    }
   ],
   "source": [
    "sns.histplot(df_clicks['cost_per_goal'], kde=True, bins=30, color=\"salmon\")"
   ]
  },
  {
   "cell_type": "code",
   "execution_count": 27,
   "id": "8c6f0ef6",
   "metadata": {},
   "outputs": [
    {
     "data": {
      "text/plain": [
       "advertising_platform_id\n",
       "bing        9061\n",
       "adwords     7326\n",
       "facebook     249\n",
       "Name: count, dtype: int64"
      ]
     },
     "execution_count": 27,
     "metadata": {},
     "output_type": "execute_result"
    }
   ],
   "source": [
    "df_clicks['advertising_platform_id'].value_counts()"
   ]
  },
  {
   "cell_type": "code",
   "execution_count": 28,
   "id": "7bf12968",
   "metadata": {},
   "outputs": [
    {
     "data": {
      "text/html": [
       "<div>\n",
       "<style scoped>\n",
       "    .dataframe tbody tr th:only-of-type {\n",
       "        vertical-align: middle;\n",
       "    }\n",
       "\n",
       "    .dataframe tbody tr th {\n",
       "        vertical-align: top;\n",
       "    }\n",
       "\n",
       "    .dataframe thead th {\n",
       "        text-align: right;\n",
       "    }\n",
       "</style>\n",
       "<table border=\"1\" class=\"dataframe\">\n",
       "  <thead>\n",
       "    <tr style=\"text-align: right;\">\n",
       "      <th></th>\n",
       "      <th>max_goals</th>\n",
       "      <th>cost_per_goal</th>\n",
       "      <th>input_amount</th>\n",
       "      <th>start_year</th>\n",
       "    </tr>\n",
       "  </thead>\n",
       "  <tbody>\n",
       "    <tr>\n",
       "      <th>count</th>\n",
       "      <td>9061.000000</td>\n",
       "      <td>9061.000000</td>\n",
       "      <td>9061.000000</td>\n",
       "      <td>9061.000000</td>\n",
       "    </tr>\n",
       "    <tr>\n",
       "      <th>mean</th>\n",
       "      <td>216.481073</td>\n",
       "      <td>0.584944</td>\n",
       "      <td>79.358117</td>\n",
       "      <td>2021.440901</td>\n",
       "    </tr>\n",
       "    <tr>\n",
       "      <th>std</th>\n",
       "      <td>264.666734</td>\n",
       "      <td>0.500408</td>\n",
       "      <td>61.791271</td>\n",
       "      <td>1.150084</td>\n",
       "    </tr>\n",
       "    <tr>\n",
       "      <th>min</th>\n",
       "      <td>0.000000</td>\n",
       "      <td>0.020000</td>\n",
       "      <td>0.000000</td>\n",
       "      <td>2017.000000</td>\n",
       "    </tr>\n",
       "    <tr>\n",
       "      <th>25%</th>\n",
       "      <td>85.000000</td>\n",
       "      <td>0.280000</td>\n",
       "      <td>54.750000</td>\n",
       "      <td>2021.000000</td>\n",
       "    </tr>\n",
       "    <tr>\n",
       "      <th>50%</th>\n",
       "      <td>148.000000</td>\n",
       "      <td>0.460000</td>\n",
       "      <td>63.700000</td>\n",
       "      <td>2021.000000</td>\n",
       "    </tr>\n",
       "    <tr>\n",
       "      <th>75%</th>\n",
       "      <td>250.000000</td>\n",
       "      <td>0.690000</td>\n",
       "      <td>95.550000</td>\n",
       "      <td>2022.000000</td>\n",
       "    </tr>\n",
       "    <tr>\n",
       "      <th>max</th>\n",
       "      <td>5673.000000</td>\n",
       "      <td>5.170000</td>\n",
       "      <td>1200.000000</td>\n",
       "      <td>2024.000000</td>\n",
       "    </tr>\n",
       "  </tbody>\n",
       "</table>\n",
       "</div>"
      ],
      "text/plain": [
       "         max_goals  cost_per_goal  input_amount   start_year\n",
       "count  9061.000000    9061.000000   9061.000000  9061.000000\n",
       "mean    216.481073       0.584944     79.358117  2021.440901\n",
       "std     264.666734       0.500408     61.791271     1.150084\n",
       "min       0.000000       0.020000      0.000000  2017.000000\n",
       "25%      85.000000       0.280000     54.750000  2021.000000\n",
       "50%     148.000000       0.460000     63.700000  2021.000000\n",
       "75%     250.000000       0.690000     95.550000  2022.000000\n",
       "max    5673.000000       5.170000   1200.000000  2024.000000"
      ]
     },
     "execution_count": 28,
     "metadata": {},
     "output_type": "execute_result"
    }
   ],
   "source": [
    "df_clicks[df_clicks['advertising_platform_id'] == 'bing'].describe()"
   ]
  },
  {
   "cell_type": "code",
   "execution_count": 29,
   "id": "5b803843",
   "metadata": {},
   "outputs": [
    {
     "data": {
      "text/html": [
       "<div>\n",
       "<style scoped>\n",
       "    .dataframe tbody tr th:only-of-type {\n",
       "        vertical-align: middle;\n",
       "    }\n",
       "\n",
       "    .dataframe tbody tr th {\n",
       "        vertical-align: top;\n",
       "    }\n",
       "\n",
       "    .dataframe thead th {\n",
       "        text-align: right;\n",
       "    }\n",
       "</style>\n",
       "<table border=\"1\" class=\"dataframe\">\n",
       "  <thead>\n",
       "    <tr style=\"text-align: right;\">\n",
       "      <th></th>\n",
       "      <th>max_goals</th>\n",
       "      <th>cost_per_goal</th>\n",
       "      <th>input_amount</th>\n",
       "      <th>start_year</th>\n",
       "    </tr>\n",
       "  </thead>\n",
       "  <tbody>\n",
       "    <tr>\n",
       "      <th>count</th>\n",
       "      <td>7326.000000</td>\n",
       "      <td>7326.000000</td>\n",
       "      <td>7326.000000</td>\n",
       "      <td>7326.000000</td>\n",
       "    </tr>\n",
       "    <tr>\n",
       "      <th>mean</th>\n",
       "      <td>223.244608</td>\n",
       "      <td>0.611790</td>\n",
       "      <td>82.921775</td>\n",
       "      <td>2021.632815</td>\n",
       "    </tr>\n",
       "    <tr>\n",
       "      <th>std</th>\n",
       "      <td>348.591019</td>\n",
       "      <td>0.517355</td>\n",
       "      <td>65.801230</td>\n",
       "      <td>1.172976</td>\n",
       "    </tr>\n",
       "    <tr>\n",
       "      <th>min</th>\n",
       "      <td>0.000000</td>\n",
       "      <td>0.010000</td>\n",
       "      <td>0.000000</td>\n",
       "      <td>2017.000000</td>\n",
       "    </tr>\n",
       "    <tr>\n",
       "      <th>25%</th>\n",
       "      <td>84.000000</td>\n",
       "      <td>0.290000</td>\n",
       "      <td>60.142500</td>\n",
       "      <td>2021.000000</td>\n",
       "    </tr>\n",
       "    <tr>\n",
       "      <th>50%</th>\n",
       "      <td>147.000000</td>\n",
       "      <td>0.470000</td>\n",
       "      <td>63.700000</td>\n",
       "      <td>2021.000000</td>\n",
       "    </tr>\n",
       "    <tr>\n",
       "      <th>75%</th>\n",
       "      <td>252.000000</td>\n",
       "      <td>0.730000</td>\n",
       "      <td>95.550000</td>\n",
       "      <td>2023.000000</td>\n",
       "    </tr>\n",
       "    <tr>\n",
       "      <th>max</th>\n",
       "      <td>11752.000000</td>\n",
       "      <td>5.540000</td>\n",
       "      <td>1200.000000</td>\n",
       "      <td>2024.000000</td>\n",
       "    </tr>\n",
       "  </tbody>\n",
       "</table>\n",
       "</div>"
      ],
      "text/plain": [
       "          max_goals  cost_per_goal  input_amount   start_year\n",
       "count   7326.000000    7326.000000   7326.000000  7326.000000\n",
       "mean     223.244608       0.611790     82.921775  2021.632815\n",
       "std      348.591019       0.517355     65.801230     1.172976\n",
       "min        0.000000       0.010000      0.000000  2017.000000\n",
       "25%       84.000000       0.290000     60.142500  2021.000000\n",
       "50%      147.000000       0.470000     63.700000  2021.000000\n",
       "75%      252.000000       0.730000     95.550000  2023.000000\n",
       "max    11752.000000       5.540000   1200.000000  2024.000000"
      ]
     },
     "execution_count": 29,
     "metadata": {},
     "output_type": "execute_result"
    }
   ],
   "source": [
    "df_clicks[df_clicks['advertising_platform_id'] == 'adwords'].describe()"
   ]
  },
  {
   "cell_type": "code",
   "execution_count": 30,
   "id": "d5f80c12",
   "metadata": {},
   "outputs": [
    {
     "data": {
      "text/html": [
       "<div>\n",
       "<style scoped>\n",
       "    .dataframe tbody tr th:only-of-type {\n",
       "        vertical-align: middle;\n",
       "    }\n",
       "\n",
       "    .dataframe tbody tr th {\n",
       "        vertical-align: top;\n",
       "    }\n",
       "\n",
       "    .dataframe thead th {\n",
       "        text-align: right;\n",
       "    }\n",
       "</style>\n",
       "<table border=\"1\" class=\"dataframe\">\n",
       "  <thead>\n",
       "    <tr style=\"text-align: right;\">\n",
       "      <th></th>\n",
       "      <th>max_goals</th>\n",
       "      <th>cost_per_goal</th>\n",
       "      <th>input_amount</th>\n",
       "      <th>start_year</th>\n",
       "    </tr>\n",
       "  </thead>\n",
       "  <tbody>\n",
       "    <tr>\n",
       "      <th>count</th>\n",
       "      <td>249.000000</td>\n",
       "      <td>249.000000</td>\n",
       "      <td>249.000000</td>\n",
       "      <td>249.000000</td>\n",
       "    </tr>\n",
       "    <tr>\n",
       "      <th>mean</th>\n",
       "      <td>258.967871</td>\n",
       "      <td>0.572048</td>\n",
       "      <td>87.785261</td>\n",
       "      <td>2021.562249</td>\n",
       "    </tr>\n",
       "    <tr>\n",
       "      <th>std</th>\n",
       "      <td>343.300781</td>\n",
       "      <td>0.377495</td>\n",
       "      <td>58.386612</td>\n",
       "      <td>0.831063</td>\n",
       "    </tr>\n",
       "    <tr>\n",
       "      <th>min</th>\n",
       "      <td>21.000000</td>\n",
       "      <td>0.040000</td>\n",
       "      <td>25.460000</td>\n",
       "      <td>2020.000000</td>\n",
       "    </tr>\n",
       "    <tr>\n",
       "      <th>25%</th>\n",
       "      <td>93.000000</td>\n",
       "      <td>0.290000</td>\n",
       "      <td>55.000000</td>\n",
       "      <td>2021.000000</td>\n",
       "    </tr>\n",
       "    <tr>\n",
       "      <th>50%</th>\n",
       "      <td>146.000000</td>\n",
       "      <td>0.580000</td>\n",
       "      <td>75.000000</td>\n",
       "      <td>2021.000000</td>\n",
       "    </tr>\n",
       "    <tr>\n",
       "      <th>75%</th>\n",
       "      <td>289.000000</td>\n",
       "      <td>0.730000</td>\n",
       "      <td>99.550000</td>\n",
       "      <td>2022.000000</td>\n",
       "    </tr>\n",
       "    <tr>\n",
       "      <th>max</th>\n",
       "      <td>3100.000000</td>\n",
       "      <td>3.000000</td>\n",
       "      <td>500.500000</td>\n",
       "      <td>2024.000000</td>\n",
       "    </tr>\n",
       "  </tbody>\n",
       "</table>\n",
       "</div>"
      ],
      "text/plain": [
       "         max_goals  cost_per_goal  input_amount   start_year\n",
       "count   249.000000     249.000000    249.000000   249.000000\n",
       "mean    258.967871       0.572048     87.785261  2021.562249\n",
       "std     343.300781       0.377495     58.386612     0.831063\n",
       "min      21.000000       0.040000     25.460000  2020.000000\n",
       "25%      93.000000       0.290000     55.000000  2021.000000\n",
       "50%     146.000000       0.580000     75.000000  2021.000000\n",
       "75%     289.000000       0.730000     99.550000  2022.000000\n",
       "max    3100.000000       3.000000    500.500000  2024.000000"
      ]
     },
     "execution_count": 30,
     "metadata": {},
     "output_type": "execute_result"
    }
   ],
   "source": [
    "df_clicks[df_clicks['advertising_platform_id'] == 'facebook'].describe()"
   ]
  },
  {
   "cell_type": "code",
   "execution_count": 31,
   "id": "34f1631b",
   "metadata": {},
   "outputs": [
    {
     "data": {
      "text/plain": [
       "advertising_platform_id\n",
       "adwords     529\n",
       "bing        635\n",
       "facebook      6\n",
       "Name: cost_per_goal, dtype: int64"
      ]
     },
     "execution_count": 31,
     "metadata": {},
     "output_type": "execute_result"
    }
   ],
   "source": [
    "def count_outliers(data):\n",
    "    Q1 = data.quantile(0.25)\n",
    "    Q3 = data.quantile(0.75)\n",
    "    \n",
    "    IQR = Q3 - Q1\n",
    "    \n",
    "    lower_bound = Q1 - 1.5 * IQR\n",
    "    upper_bound = Q3 + 1.5 * IQR\n",
    "    \n",
    "    outliers = (data < lower_bound) | (data > upper_bound)\n",
    "    return outliers.sum()\n",
    "\n",
    "outliers_count = df_clicks.groupby('advertising_platform_id')['cost_per_goal'].apply(count_outliers)\n",
    "\n",
    "outliers_count"
   ]
  },
  {
   "cell_type": "code",
   "execution_count": null,
   "id": "fb9c864e",
   "metadata": {},
   "outputs": [],
   "source": []
  },
  {
   "cell_type": "markdown",
   "id": "276db9c4",
   "metadata": {},
   "source": [
    "## Machine Learning"
   ]
  },
  {
   "cell_type": "markdown",
   "id": "cf23e843",
   "metadata": {},
   "source": [
    "1. Prepare data"
   ]
  },
  {
   "cell_type": "code",
   "execution_count": 32,
   "id": "bd2eda2b",
   "metadata": {},
   "outputs": [],
   "source": [
    "columns_to_drop = ['schedule_start', 'campaign_id', 'schedule_end', 'partner_name', 'internal_state_id', 'goal_id', 'state_id', 'input_amount', 'max_goals']\n",
    "df_clicks_filtered = df_clicks.drop(columns=columns_to_drop)"
   ]
  },
  {
   "cell_type": "code",
   "execution_count": 33,
   "id": "ba532bf5",
   "metadata": {},
   "outputs": [],
   "source": [
    "vertical_counts = df_clicks_filtered['vertical'].value_counts()\n",
    "verticals_to_keep = vertical_counts[vertical_counts >= 100].index\n",
    "df_clicks_filtered = df_clicks_filtered[df_clicks_filtered['vertical'].isin(verticals_to_keep)]"
   ]
  },
  {
   "cell_type": "code",
   "execution_count": 34,
   "id": "e78092c1",
   "metadata": {},
   "outputs": [
    {
     "data": {
      "text/plain": [
       "vertical\n",
       "Home Improvement & Maintenance    3514\n",
       "Others                            1769\n",
       "Health                            1679\n",
       "Industrial                        1495\n",
       "Cars & Motorbikes                  826\n",
       "Business                           775\n",
       "Electronics                        426\n",
       "Food & Drinks                      420\n",
       "Transport & Logistics              418\n",
       "Legal & Law                        367\n",
       "Funeral Services                   327\n",
       "Interior Design & Furniture        313\n",
       "Beauty                             309\n",
       "Restaurant                         309\n",
       "Environment                        283\n",
       "Animals & Pets                     248\n",
       "School                             233\n",
       "Accommodation & Hotels             231\n",
       "Real Estate                        229\n",
       "Fashion & Clothing                 226\n",
       "Agriculture                        223\n",
       "Security                           177\n",
       "Pharmacy                           144\n",
       "Flowers & Plants                   107\n",
       "Accounting                         101\n",
       "Name: count, dtype: int64"
      ]
     },
     "execution_count": 34,
     "metadata": {},
     "output_type": "execute_result"
    }
   ],
   "source": [
    "df_clicks_filtered['vertical'].value_counts().head(30)"
   ]
  },
  {
   "cell_type": "code",
   "execution_count": 35,
   "id": "36a866a0",
   "metadata": {},
   "outputs": [
    {
     "data": {
      "text/html": [
       "<div>\n",
       "<style scoped>\n",
       "    .dataframe tbody tr th:only-of-type {\n",
       "        vertical-align: middle;\n",
       "    }\n",
       "\n",
       "    .dataframe tbody tr th {\n",
       "        vertical-align: top;\n",
       "    }\n",
       "\n",
       "    .dataframe thead th {\n",
       "        text-align: right;\n",
       "    }\n",
       "</style>\n",
       "<table border=\"1\" class=\"dataframe\">\n",
       "  <thead>\n",
       "    <tr style=\"text-align: right;\">\n",
       "      <th></th>\n",
       "      <th>vertical</th>\n",
       "      <th>advertiser_country</th>\n",
       "      <th>cost_per_goal</th>\n",
       "      <th>advertising_platform_id</th>\n",
       "      <th>start_year</th>\n",
       "    </tr>\n",
       "  </thead>\n",
       "  <tbody>\n",
       "    <tr>\n",
       "      <th>110</th>\n",
       "      <td>Agriculture</td>\n",
       "      <td>BE</td>\n",
       "      <td>0.19</td>\n",
       "      <td>bing</td>\n",
       "      <td>2020</td>\n",
       "    </tr>\n",
       "    <tr>\n",
       "      <th>141</th>\n",
       "      <td>Cars &amp; Motorbikes</td>\n",
       "      <td>BE</td>\n",
       "      <td>0.22</td>\n",
       "      <td>bing</td>\n",
       "      <td>2020</td>\n",
       "    </tr>\n",
       "    <tr>\n",
       "      <th>220</th>\n",
       "      <td>Fashion &amp; Clothing</td>\n",
       "      <td>BE</td>\n",
       "      <td>0.14</td>\n",
       "      <td>bing</td>\n",
       "      <td>2020</td>\n",
       "    </tr>\n",
       "    <tr>\n",
       "      <th>252</th>\n",
       "      <td>Home Improvement &amp; Maintenance</td>\n",
       "      <td>BE</td>\n",
       "      <td>0.15</td>\n",
       "      <td>bing</td>\n",
       "      <td>2020</td>\n",
       "    </tr>\n",
       "    <tr>\n",
       "      <th>253</th>\n",
       "      <td>Interior Design &amp; Furniture</td>\n",
       "      <td>BE</td>\n",
       "      <td>0.15</td>\n",
       "      <td>bing</td>\n",
       "      <td>2020</td>\n",
       "    </tr>\n",
       "    <tr>\n",
       "      <th>...</th>\n",
       "      <td>...</td>\n",
       "      <td>...</td>\n",
       "      <td>...</td>\n",
       "      <td>...</td>\n",
       "      <td>...</td>\n",
       "    </tr>\n",
       "    <tr>\n",
       "      <th>22102</th>\n",
       "      <td>Health</td>\n",
       "      <td>PT</td>\n",
       "      <td>0.20</td>\n",
       "      <td>bing</td>\n",
       "      <td>2021</td>\n",
       "    </tr>\n",
       "    <tr>\n",
       "      <th>22104</th>\n",
       "      <td>Electronics</td>\n",
       "      <td>PT</td>\n",
       "      <td>0.20</td>\n",
       "      <td>adwords</td>\n",
       "      <td>2019</td>\n",
       "    </tr>\n",
       "    <tr>\n",
       "      <th>22108</th>\n",
       "      <td>Industrial</td>\n",
       "      <td>PT</td>\n",
       "      <td>0.19</td>\n",
       "      <td>adwords</td>\n",
       "      <td>2019</td>\n",
       "    </tr>\n",
       "    <tr>\n",
       "      <th>22109</th>\n",
       "      <td>Home Improvement &amp; Maintenance</td>\n",
       "      <td>PT</td>\n",
       "      <td>0.18</td>\n",
       "      <td>bing</td>\n",
       "      <td>2023</td>\n",
       "    </tr>\n",
       "    <tr>\n",
       "      <th>22110</th>\n",
       "      <td>Funeral Services</td>\n",
       "      <td>PT</td>\n",
       "      <td>0.61</td>\n",
       "      <td>adwords</td>\n",
       "      <td>2019</td>\n",
       "    </tr>\n",
       "  </tbody>\n",
       "</table>\n",
       "<p>15149 rows × 5 columns</p>\n",
       "</div>"
      ],
      "text/plain": [
       "                             vertical advertiser_country  cost_per_goal  \\\n",
       "110                       Agriculture                 BE           0.19   \n",
       "141                 Cars & Motorbikes                 BE           0.22   \n",
       "220                Fashion & Clothing                 BE           0.14   \n",
       "252    Home Improvement & Maintenance                 BE           0.15   \n",
       "253       Interior Design & Furniture                 BE           0.15   \n",
       "...                               ...                ...            ...   \n",
       "22102                          Health                 PT           0.20   \n",
       "22104                     Electronics                 PT           0.20   \n",
       "22108                      Industrial                 PT           0.19   \n",
       "22109  Home Improvement & Maintenance                 PT           0.18   \n",
       "22110                Funeral Services                 PT           0.61   \n",
       "\n",
       "      advertising_platform_id  start_year  \n",
       "110                      bing        2020  \n",
       "141                      bing        2020  \n",
       "220                      bing        2020  \n",
       "252                      bing        2020  \n",
       "253                      bing        2020  \n",
       "...                       ...         ...  \n",
       "22102                    bing        2021  \n",
       "22104                 adwords        2019  \n",
       "22108                 adwords        2019  \n",
       "22109                    bing        2023  \n",
       "22110                 adwords        2019  \n",
       "\n",
       "[15149 rows x 5 columns]"
      ]
     },
     "execution_count": 35,
     "metadata": {},
     "output_type": "execute_result"
    }
   ],
   "source": [
    "df_clicks_filtered"
   ]
  },
  {
   "cell_type": "code",
   "execution_count": 36,
   "id": "28b13cee",
   "metadata": {},
   "outputs": [],
   "source": [
    "df_PT = df_clicks_filtered[df_clicks_filtered['advertiser_country'] == 'PT']\n",
    "df_BE = df_clicks_filtered[df_clicks_filtered['advertiser_country'] == 'BE']\n",
    "df_ES = df_clicks_filtered[df_clicks_filtered['advertiser_country'] == 'ES']"
   ]
  },
  {
   "cell_type": "code",
   "execution_count": 37,
   "id": "20efcb43",
   "metadata": {},
   "outputs": [],
   "source": [
    "df_PT = df_PT.drop(columns=['advertiser_country'])\n",
    "df_BE = df_BE.drop(columns=['advertiser_country'])\n",
    "df_ES = df_ES.drop(columns=['advertiser_country'])"
   ]
  },
  {
   "cell_type": "code",
   "execution_count": 38,
   "id": "68b459c8",
   "metadata": {},
   "outputs": [],
   "source": [
    "df_PT = df_PT.drop(columns=['start_year'])\n",
    "df_BE = df_BE.drop(columns=['start_year'])\n",
    "df_ES = df_ES.drop(columns=['start_year'])"
   ]
  },
  {
   "cell_type": "code",
   "execution_count": 39,
   "id": "ac57ef0f",
   "metadata": {},
   "outputs": [],
   "source": [
    "df_encoded = pd.get_dummies(df_clicks_filtered)\n",
    "df_encoded_PT = pd.get_dummies(df_PT)\n",
    "df_encoded_BE = pd.get_dummies(df_BE)\n",
    "df_encoded_ES = pd.get_dummies(df_ES)"
   ]
  },
  {
   "cell_type": "code",
   "execution_count": 40,
   "id": "905feca3",
   "metadata": {},
   "outputs": [],
   "source": [
    "df_encoded = df_encoded.replace({False: 0, True: 1})\n",
    "df_encoded_PT = df_encoded_PT.replace({False: 0, True: 1})\n",
    "df_encoded_ES = df_encoded_ES.replace({False: 0, True: 1})\n",
    "df_encoded_BE = df_encoded_BE.replace({False: 0, True: 1})"
   ]
  },
  {
   "cell_type": "code",
   "execution_count": 211,
   "id": "55245f8f",
   "metadata": {},
   "outputs": [],
   "source": [
    "df_encoded_no_year = df_encoded.drop(columns=['start_year'])"
   ]
  },
  {
   "cell_type": "code",
   "execution_count": null,
   "id": "b104b808",
   "metadata": {},
   "outputs": [],
   "source": [
    "columns_to_drop = ['advertiser_country_BS', 'advertiser_country_DE', \n",
    "                   'advertiser_country_GB', 'advertiser_country_LU',\n",
    "                   'advertiser_country_NL', 'advertiser_country_US']\n",
    "\n",
    "df_encoded_3_countries = df_encoded.drop(columns=columns_to_drop)"
   ]
  },
  {
   "cell_type": "code",
   "execution_count": 246,
   "id": "c54c389d",
   "metadata": {},
   "outputs": [],
   "source": [
    "countries_to_drop = ['LU', 'NL', 'US', 'BS', 'AG', 'DE', 'GB']\n",
    "\n",
    "df_clicks_filtered_3_countries = df_clicks_filtered[~df_clicks_filtered['advertiser_country'].isin(countries_to_drop)]"
   ]
  },
  {
   "cell_type": "code",
   "execution_count": 41,
   "id": "c6383677",
   "metadata": {},
   "outputs": [
    {
     "name": "stdout",
     "output_type": "stream",
     "text": [
      "Original shape: (15149, 40)\n",
      "Shape after removing outliers: (14731, 40)\n"
     ]
    }
   ],
   "source": [
    "from scipy.stats import zscore\n",
    "\n",
    "z_scores = zscore(df_encoded['cost_per_goal'])\n",
    "\n",
    "threshold = 3\n",
    "\n",
    "outliers_mask = (np.abs(z_scores) > threshold)\n",
    "\n",
    "df_encoded_cleaned = df_encoded[~outliers_mask]\n",
    "\n",
    "print(\"Original shape:\", df_encoded.shape)\n",
    "print(\"Shape after removing outliers:\", df_encoded_cleaned.shape)"
   ]
  },
  {
   "cell_type": "code",
   "execution_count": null,
   "id": "4f76f422",
   "metadata": {},
   "outputs": [],
   "source": []
  },
  {
   "cell_type": "code",
   "execution_count": 43,
   "id": "04323756",
   "metadata": {},
   "outputs": [],
   "source": [
    "df_encoded_ES_GA = df_encoded_ES[df_encoded_ES['advertising_platform_id_bing'] != 1]\n",
    "df_encoded_ES_GA = df_encoded_ES_GA.drop(columns=[\"advertising_platform_id_bing\", \"advertising_platform_id_adwords\"])"
   ]
  },
  {
   "cell_type": "code",
   "execution_count": 44,
   "id": "66c8a3bf",
   "metadata": {},
   "outputs": [],
   "source": [
    "df_encoded_PT_GA = df_encoded_PT[df_encoded_PT['advertising_platform_id_bing'] != 1]\n",
    "df_encoded_PT_GA = df_encoded_PT_GA.drop(columns=[\"advertising_platform_id_bing\", \"advertising_platform_id_adwords\"])"
   ]
  },
  {
   "cell_type": "code",
   "execution_count": 45,
   "id": "e13f0613",
   "metadata": {},
   "outputs": [],
   "source": [
    "df_encoded_BE_GA = df_encoded_BE[(df_encoded_BE['advertising_platform_id_bing'] != 1) & (df_encoded_BE['advertising_platform_id_facebook'] != 1)]\n",
    "df_encoded_BE_GA = df_encoded_BE_GA.drop(columns=[\"advertising_platform_id_bing\", \"advertising_platform_id_adwords\", \"advertising_platform_id_facebook\"])"
   ]
  },
  {
   "cell_type": "markdown",
   "id": "32d39117",
   "metadata": {},
   "source": [
    "KNN"
   ]
  },
  {
   "cell_type": "code",
   "execution_count": 209,
   "id": "c8982ddc",
   "metadata": {},
   "outputs": [
    {
     "data": {
      "text/html": [
       "<div>\n",
       "<style scoped>\n",
       "    .dataframe tbody tr th:only-of-type {\n",
       "        vertical-align: middle;\n",
       "    }\n",
       "\n",
       "    .dataframe tbody tr th {\n",
       "        vertical-align: top;\n",
       "    }\n",
       "\n",
       "    .dataframe thead th {\n",
       "        text-align: right;\n",
       "    }\n",
       "</style>\n",
       "<table border=\"1\" class=\"dataframe\">\n",
       "  <thead>\n",
       "    <tr style=\"text-align: right;\">\n",
       "      <th></th>\n",
       "      <th>cost_per_goal</th>\n",
       "      <th>start_year</th>\n",
       "      <th>vertical_Accommodation &amp; Hotels</th>\n",
       "      <th>vertical_Accounting</th>\n",
       "      <th>vertical_Agriculture</th>\n",
       "      <th>vertical_Animals &amp; Pets</th>\n",
       "      <th>vertical_Beauty</th>\n",
       "      <th>vertical_Business</th>\n",
       "      <th>vertical_Cars &amp; Motorbikes</th>\n",
       "      <th>vertical_Electronics</th>\n",
       "      <th>...</th>\n",
       "      <th>advertiser_country_DE</th>\n",
       "      <th>advertiser_country_ES</th>\n",
       "      <th>advertiser_country_GB</th>\n",
       "      <th>advertiser_country_LU</th>\n",
       "      <th>advertiser_country_NL</th>\n",
       "      <th>advertiser_country_PT</th>\n",
       "      <th>advertiser_country_US</th>\n",
       "      <th>advertising_platform_id_adwords</th>\n",
       "      <th>advertising_platform_id_bing</th>\n",
       "      <th>advertising_platform_id_facebook</th>\n",
       "    </tr>\n",
       "  </thead>\n",
       "  <tbody>\n",
       "    <tr>\n",
       "      <th>110</th>\n",
       "      <td>0.19</td>\n",
       "      <td>2020</td>\n",
       "      <td>0</td>\n",
       "      <td>0</td>\n",
       "      <td>1</td>\n",
       "      <td>0</td>\n",
       "      <td>0</td>\n",
       "      <td>0</td>\n",
       "      <td>0</td>\n",
       "      <td>0</td>\n",
       "      <td>...</td>\n",
       "      <td>0</td>\n",
       "      <td>0</td>\n",
       "      <td>0</td>\n",
       "      <td>0</td>\n",
       "      <td>0</td>\n",
       "      <td>0</td>\n",
       "      <td>0</td>\n",
       "      <td>0</td>\n",
       "      <td>1</td>\n",
       "      <td>0</td>\n",
       "    </tr>\n",
       "    <tr>\n",
       "      <th>141</th>\n",
       "      <td>0.22</td>\n",
       "      <td>2020</td>\n",
       "      <td>0</td>\n",
       "      <td>0</td>\n",
       "      <td>0</td>\n",
       "      <td>0</td>\n",
       "      <td>0</td>\n",
       "      <td>0</td>\n",
       "      <td>1</td>\n",
       "      <td>0</td>\n",
       "      <td>...</td>\n",
       "      <td>0</td>\n",
       "      <td>0</td>\n",
       "      <td>0</td>\n",
       "      <td>0</td>\n",
       "      <td>0</td>\n",
       "      <td>0</td>\n",
       "      <td>0</td>\n",
       "      <td>0</td>\n",
       "      <td>1</td>\n",
       "      <td>0</td>\n",
       "    </tr>\n",
       "    <tr>\n",
       "      <th>220</th>\n",
       "      <td>0.14</td>\n",
       "      <td>2020</td>\n",
       "      <td>0</td>\n",
       "      <td>0</td>\n",
       "      <td>0</td>\n",
       "      <td>0</td>\n",
       "      <td>0</td>\n",
       "      <td>0</td>\n",
       "      <td>0</td>\n",
       "      <td>0</td>\n",
       "      <td>...</td>\n",
       "      <td>0</td>\n",
       "      <td>0</td>\n",
       "      <td>0</td>\n",
       "      <td>0</td>\n",
       "      <td>0</td>\n",
       "      <td>0</td>\n",
       "      <td>0</td>\n",
       "      <td>0</td>\n",
       "      <td>1</td>\n",
       "      <td>0</td>\n",
       "    </tr>\n",
       "    <tr>\n",
       "      <th>252</th>\n",
       "      <td>0.15</td>\n",
       "      <td>2020</td>\n",
       "      <td>0</td>\n",
       "      <td>0</td>\n",
       "      <td>0</td>\n",
       "      <td>0</td>\n",
       "      <td>0</td>\n",
       "      <td>0</td>\n",
       "      <td>0</td>\n",
       "      <td>0</td>\n",
       "      <td>...</td>\n",
       "      <td>0</td>\n",
       "      <td>0</td>\n",
       "      <td>0</td>\n",
       "      <td>0</td>\n",
       "      <td>0</td>\n",
       "      <td>0</td>\n",
       "      <td>0</td>\n",
       "      <td>0</td>\n",
       "      <td>1</td>\n",
       "      <td>0</td>\n",
       "    </tr>\n",
       "    <tr>\n",
       "      <th>253</th>\n",
       "      <td>0.15</td>\n",
       "      <td>2020</td>\n",
       "      <td>0</td>\n",
       "      <td>0</td>\n",
       "      <td>0</td>\n",
       "      <td>0</td>\n",
       "      <td>0</td>\n",
       "      <td>0</td>\n",
       "      <td>0</td>\n",
       "      <td>0</td>\n",
       "      <td>...</td>\n",
       "      <td>0</td>\n",
       "      <td>0</td>\n",
       "      <td>0</td>\n",
       "      <td>0</td>\n",
       "      <td>0</td>\n",
       "      <td>0</td>\n",
       "      <td>0</td>\n",
       "      <td>0</td>\n",
       "      <td>1</td>\n",
       "      <td>0</td>\n",
       "    </tr>\n",
       "    <tr>\n",
       "      <th>...</th>\n",
       "      <td>...</td>\n",
       "      <td>...</td>\n",
       "      <td>...</td>\n",
       "      <td>...</td>\n",
       "      <td>...</td>\n",
       "      <td>...</td>\n",
       "      <td>...</td>\n",
       "      <td>...</td>\n",
       "      <td>...</td>\n",
       "      <td>...</td>\n",
       "      <td>...</td>\n",
       "      <td>...</td>\n",
       "      <td>...</td>\n",
       "      <td>...</td>\n",
       "      <td>...</td>\n",
       "      <td>...</td>\n",
       "      <td>...</td>\n",
       "      <td>...</td>\n",
       "      <td>...</td>\n",
       "      <td>...</td>\n",
       "      <td>...</td>\n",
       "    </tr>\n",
       "    <tr>\n",
       "      <th>22102</th>\n",
       "      <td>0.20</td>\n",
       "      <td>2021</td>\n",
       "      <td>0</td>\n",
       "      <td>0</td>\n",
       "      <td>0</td>\n",
       "      <td>0</td>\n",
       "      <td>0</td>\n",
       "      <td>0</td>\n",
       "      <td>0</td>\n",
       "      <td>0</td>\n",
       "      <td>...</td>\n",
       "      <td>0</td>\n",
       "      <td>0</td>\n",
       "      <td>0</td>\n",
       "      <td>0</td>\n",
       "      <td>0</td>\n",
       "      <td>1</td>\n",
       "      <td>0</td>\n",
       "      <td>0</td>\n",
       "      <td>1</td>\n",
       "      <td>0</td>\n",
       "    </tr>\n",
       "    <tr>\n",
       "      <th>22104</th>\n",
       "      <td>0.20</td>\n",
       "      <td>2019</td>\n",
       "      <td>0</td>\n",
       "      <td>0</td>\n",
       "      <td>0</td>\n",
       "      <td>0</td>\n",
       "      <td>0</td>\n",
       "      <td>0</td>\n",
       "      <td>0</td>\n",
       "      <td>1</td>\n",
       "      <td>...</td>\n",
       "      <td>0</td>\n",
       "      <td>0</td>\n",
       "      <td>0</td>\n",
       "      <td>0</td>\n",
       "      <td>0</td>\n",
       "      <td>1</td>\n",
       "      <td>0</td>\n",
       "      <td>1</td>\n",
       "      <td>0</td>\n",
       "      <td>0</td>\n",
       "    </tr>\n",
       "    <tr>\n",
       "      <th>22108</th>\n",
       "      <td>0.19</td>\n",
       "      <td>2019</td>\n",
       "      <td>0</td>\n",
       "      <td>0</td>\n",
       "      <td>0</td>\n",
       "      <td>0</td>\n",
       "      <td>0</td>\n",
       "      <td>0</td>\n",
       "      <td>0</td>\n",
       "      <td>0</td>\n",
       "      <td>...</td>\n",
       "      <td>0</td>\n",
       "      <td>0</td>\n",
       "      <td>0</td>\n",
       "      <td>0</td>\n",
       "      <td>0</td>\n",
       "      <td>1</td>\n",
       "      <td>0</td>\n",
       "      <td>1</td>\n",
       "      <td>0</td>\n",
       "      <td>0</td>\n",
       "    </tr>\n",
       "    <tr>\n",
       "      <th>22109</th>\n",
       "      <td>0.18</td>\n",
       "      <td>2023</td>\n",
       "      <td>0</td>\n",
       "      <td>0</td>\n",
       "      <td>0</td>\n",
       "      <td>0</td>\n",
       "      <td>0</td>\n",
       "      <td>0</td>\n",
       "      <td>0</td>\n",
       "      <td>0</td>\n",
       "      <td>...</td>\n",
       "      <td>0</td>\n",
       "      <td>0</td>\n",
       "      <td>0</td>\n",
       "      <td>0</td>\n",
       "      <td>0</td>\n",
       "      <td>1</td>\n",
       "      <td>0</td>\n",
       "      <td>0</td>\n",
       "      <td>1</td>\n",
       "      <td>0</td>\n",
       "    </tr>\n",
       "    <tr>\n",
       "      <th>22110</th>\n",
       "      <td>0.61</td>\n",
       "      <td>2019</td>\n",
       "      <td>0</td>\n",
       "      <td>0</td>\n",
       "      <td>0</td>\n",
       "      <td>0</td>\n",
       "      <td>0</td>\n",
       "      <td>0</td>\n",
       "      <td>0</td>\n",
       "      <td>0</td>\n",
       "      <td>...</td>\n",
       "      <td>0</td>\n",
       "      <td>0</td>\n",
       "      <td>0</td>\n",
       "      <td>0</td>\n",
       "      <td>0</td>\n",
       "      <td>1</td>\n",
       "      <td>0</td>\n",
       "      <td>1</td>\n",
       "      <td>0</td>\n",
       "      <td>0</td>\n",
       "    </tr>\n",
       "  </tbody>\n",
       "</table>\n",
       "<p>15149 rows × 40 columns</p>\n",
       "</div>"
      ],
      "text/plain": [
       "       cost_per_goal  start_year  vertical_Accommodation & Hotels  \\\n",
       "110             0.19        2020                                0   \n",
       "141             0.22        2020                                0   \n",
       "220             0.14        2020                                0   \n",
       "252             0.15        2020                                0   \n",
       "253             0.15        2020                                0   \n",
       "...              ...         ...                              ...   \n",
       "22102           0.20        2021                                0   \n",
       "22104           0.20        2019                                0   \n",
       "22108           0.19        2019                                0   \n",
       "22109           0.18        2023                                0   \n",
       "22110           0.61        2019                                0   \n",
       "\n",
       "       vertical_Accounting  vertical_Agriculture  vertical_Animals & Pets  \\\n",
       "110                      0                     1                        0   \n",
       "141                      0                     0                        0   \n",
       "220                      0                     0                        0   \n",
       "252                      0                     0                        0   \n",
       "253                      0                     0                        0   \n",
       "...                    ...                   ...                      ...   \n",
       "22102                    0                     0                        0   \n",
       "22104                    0                     0                        0   \n",
       "22108                    0                     0                        0   \n",
       "22109                    0                     0                        0   \n",
       "22110                    0                     0                        0   \n",
       "\n",
       "       vertical_Beauty  vertical_Business  vertical_Cars & Motorbikes  \\\n",
       "110                  0                  0                           0   \n",
       "141                  0                  0                           1   \n",
       "220                  0                  0                           0   \n",
       "252                  0                  0                           0   \n",
       "253                  0                  0                           0   \n",
       "...                ...                ...                         ...   \n",
       "22102                0                  0                           0   \n",
       "22104                0                  0                           0   \n",
       "22108                0                  0                           0   \n",
       "22109                0                  0                           0   \n",
       "22110                0                  0                           0   \n",
       "\n",
       "       vertical_Electronics  ...  advertiser_country_DE  \\\n",
       "110                       0  ...                      0   \n",
       "141                       0  ...                      0   \n",
       "220                       0  ...                      0   \n",
       "252                       0  ...                      0   \n",
       "253                       0  ...                      0   \n",
       "...                     ...  ...                    ...   \n",
       "22102                     0  ...                      0   \n",
       "22104                     1  ...                      0   \n",
       "22108                     0  ...                      0   \n",
       "22109                     0  ...                      0   \n",
       "22110                     0  ...                      0   \n",
       "\n",
       "       advertiser_country_ES  advertiser_country_GB  advertiser_country_LU  \\\n",
       "110                        0                      0                      0   \n",
       "141                        0                      0                      0   \n",
       "220                        0                      0                      0   \n",
       "252                        0                      0                      0   \n",
       "253                        0                      0                      0   \n",
       "...                      ...                    ...                    ...   \n",
       "22102                      0                      0                      0   \n",
       "22104                      0                      0                      0   \n",
       "22108                      0                      0                      0   \n",
       "22109                      0                      0                      0   \n",
       "22110                      0                      0                      0   \n",
       "\n",
       "       advertiser_country_NL  advertiser_country_PT  advertiser_country_US  \\\n",
       "110                        0                      0                      0   \n",
       "141                        0                      0                      0   \n",
       "220                        0                      0                      0   \n",
       "252                        0                      0                      0   \n",
       "253                        0                      0                      0   \n",
       "...                      ...                    ...                    ...   \n",
       "22102                      0                      1                      0   \n",
       "22104                      0                      1                      0   \n",
       "22108                      0                      1                      0   \n",
       "22109                      0                      1                      0   \n",
       "22110                      0                      1                      0   \n",
       "\n",
       "       advertising_platform_id_adwords  advertising_platform_id_bing  \\\n",
       "110                                  0                             1   \n",
       "141                                  0                             1   \n",
       "220                                  0                             1   \n",
       "252                                  0                             1   \n",
       "253                                  0                             1   \n",
       "...                                ...                           ...   \n",
       "22102                                0                             1   \n",
       "22104                                1                             0   \n",
       "22108                                1                             0   \n",
       "22109                                0                             1   \n",
       "22110                                1                             0   \n",
       "\n",
       "       advertising_platform_id_facebook  \n",
       "110                                   0  \n",
       "141                                   0  \n",
       "220                                   0  \n",
       "252                                   0  \n",
       "253                                   0  \n",
       "...                                 ...  \n",
       "22102                                 0  \n",
       "22104                                 0  \n",
       "22108                                 0  \n",
       "22109                                 0  \n",
       "22110                                 0  \n",
       "\n",
       "[15149 rows x 40 columns]"
      ]
     },
     "execution_count": 209,
     "metadata": {},
     "output_type": "execute_result"
    }
   ],
   "source": [
    "df_encoded"
   ]
  },
  {
   "cell_type": "code",
   "execution_count": 47,
   "id": "ff17444e",
   "metadata": {},
   "outputs": [],
   "source": [
    "features = df_encoded_cleaned.drop(columns = [\"cost_per_goal\"])\n",
    "target = df_encoded_cleaned[\"cost_per_goal\"]\n",
    "\n",
    "X_train, X_test, y_train, y_test = train_test_split(features, target, test_size=0.30, random_state=0)"
   ]
  },
  {
   "cell_type": "code",
   "execution_count": 49,
   "id": "898c9774",
   "metadata": {},
   "outputs": [
    {
     "name": "stdout",
     "output_type": "stream",
     "text": [
      "The R2 score of the model with MinMaxScaler scaler is: 0.11\n",
      "RMSE: 0.34, MSE: 0.11, MAE: 0.24\n",
      "\n",
      "The R2 score of the model with StandardScaler scaler is: 0.11\n",
      "RMSE: 0.34, MSE: 0.11, MAE: 0.24\n",
      "\n",
      "The R2 score of the model with RobustScaler scaler is: 0.11\n",
      "RMSE: 0.34, MSE: 0.11, MAE: 0.24\n",
      "\n",
      "The R2 score of the model with MaxAbsScaler scaler is: 0.11\n",
      "RMSE: 0.34, MSE: 0.11, MAE: 0.24\n",
      "\n",
      "The R2 score of the model with QuantileTransformer scaler is: 0.11\n",
      "RMSE: 0.34, MSE: 0.11, MAE: 0.24\n",
      "\n",
      "The R2 score of the model with PowerTransformer scaler is: 0.00\n",
      "RMSE: 0.36, MSE: 0.13, MAE: 0.27\n",
      "\n"
     ]
    }
   ],
   "source": [
    "from sklearn.metrics import mean_squared_error, mean_absolute_error\n",
    "\n",
    "scalers = {\n",
    "    \"MinMaxScaler\": MinMaxScaler(),\n",
    "    \"StandardScaler\": StandardScaler(),\n",
    "    \"RobustScaler\": RobustScaler(),\n",
    "    \"MaxAbsScaler\": MaxAbsScaler(),\n",
    "    \"QuantileTransformer\": QuantileTransformer(),\n",
    "    \"PowerTransformer\": PowerTransformer()\n",
    "}\n",
    "\n",
    "for scaler_name, scaler in scalers.items():\n",
    "    X_train_norm = scaler.fit_transform(X_train)\n",
    "    X_test_norm = scaler.transform(X_test)\n",
    "    \n",
    "    knn = KNeighborsRegressor(n_neighbors=10)\n",
    "    knn.fit(X_train_norm, y_train)\n",
    "    \n",
    "    y_pred = knn.predict(X_test_norm)\n",
    "    \n",
    "    r222_score = knn.score(X_test_norm, y_test)\n",
    "    \n",
    "    rmse = mean_squared_error(y_test, y_pred, squared=False)\n",
    "    \n",
    "    mse = mean_squared_error(y_test, y_pred)\n",
    "    \n",
    "    mae = mean_absolute_error(y_test, y_pred)\n",
    "    \n",
    "    print(f\"The R2 score of the model with {scaler_name} scaler is: {r222_score:.2f}\")\n",
    "    print(f\"RMSE: {rmse:.2f}, MSE: {mse:.2f}, MAE: {mae:.2f}\\n\")"
   ]
  },
  {
   "cell_type": "code",
   "execution_count": 50,
   "id": "1ae93bcc",
   "metadata": {},
   "outputs": [
    {
     "name": "stdout",
     "output_type": "stream",
     "text": [
      "The R2 score of the model without scaler is: 0.15\n"
     ]
    }
   ],
   "source": [
    "knn = KNeighborsRegressor(n_neighbors=10)\n",
    "knn.fit(X_train, y_train)\n",
    "\n",
    "r22_score = knn.score(X_test, y_test)\n",
    "\n",
    "print(f\"The R2 score of the model without scaler is: {r22_score:.2f}\")"
   ]
  },
  {
   "cell_type": "code",
   "execution_count": null,
   "id": "b34ca20b",
   "metadata": {},
   "outputs": [],
   "source": []
  },
  {
   "cell_type": "code",
   "execution_count": 51,
   "id": "874f5f01",
   "metadata": {},
   "outputs": [
    {
     "name": "stdout",
     "output_type": "stream",
     "text": [
      "Linear Regression MSE: 0.10940395308888297\n",
      "Decision Tree MSE: 0.11056347553723866\n",
      "Random Forest MSE: 0.10877587490390712\n",
      "GBM MSE: 0.1043530871261604\n"
     ]
    }
   ],
   "source": [
    "# Linear Regression\n",
    "lr = LinearRegression()\n",
    "lr.fit(X_train, y_train)\n",
    "lr_pred = lr.predict(X_test)\n",
    "lr_mse = mean_squared_error(y_test, lr_pred)\n",
    "print(\"Linear Regression MSE:\", lr_mse)\n",
    "\n",
    "# Decision Tree\n",
    "dt = DecisionTreeRegressor()\n",
    "dt.fit(X_train, y_train)\n",
    "dt_pred = dt.predict(X_test)\n",
    "dt_mse = mean_squared_error(y_test, dt_pred)\n",
    "print(\"Decision Tree MSE:\", dt_mse)\n",
    "\n",
    "# Random Forest\n",
    "rf = RandomForestRegressor()\n",
    "rf.fit(X_train, y_train)\n",
    "rf_pred = rf.predict(X_test)\n",
    "rf_mse = mean_squared_error(y_test, rf_pred)\n",
    "print(\"Random Forest MSE:\", rf_mse)\n",
    "\n",
    "# Gradient Boosting Machines (GBM)\n",
    "gbm = GradientBoostingRegressor()\n",
    "gbm.fit(X_train, y_train)\n",
    "gbm_pred = gbm.predict(X_test)\n",
    "gbm_mse = mean_squared_error(y_test, gbm_pred)\n",
    "print(\"GBM MSE:\", gbm_mse)"
   ]
  },
  {
   "cell_type": "code",
   "execution_count": null,
   "id": "2b6ef971",
   "metadata": {},
   "outputs": [],
   "source": []
  },
  {
   "cell_type": "code",
   "execution_count": null,
   "id": "8b5d97e9",
   "metadata": {},
   "outputs": [],
   "source": []
  },
  {
   "cell_type": "code",
   "execution_count": 52,
   "id": "4167698a",
   "metadata": {},
   "outputs": [
    {
     "name": "stdout",
     "output_type": "stream",
     "text": [
      "Best Linear Regression MSE: 0.4008401627086488\n",
      "Best Hyperparameters: {'fit_intercept': False}\n"
     ]
    }
   ],
   "source": [
    "param_grid = {\n",
    "    'fit_intercept': [True, False]\n",
    "}\n",
    "\n",
    "lr = LinearRegression()\n",
    "\n",
    "grid_search = GridSearchCV(estimator=lr, param_grid=param_grid, scoring='neg_mean_squared_error', cv=5)\n",
    "\n",
    "grid_search.fit(X_train, y_train)\n",
    "\n",
    "best_lr = grid_search.best_estimator_\n",
    "\n",
    "best_lr_pred = best_lr.predict(X_test)\n",
    "\n",
    "best_lr_mse = mean_squared_error(y_test, best_lr_pred)\n",
    "print(\"Best Linear Regression MSE:\", best_lr_mse)\n",
    "\n",
    "best_params = grid_search.best_params_\n",
    "print(\"Best Hyperparameters:\", best_params)"
   ]
  },
  {
   "cell_type": "code",
   "execution_count": 229,
   "id": "022eff16",
   "metadata": {},
   "outputs": [
    {
     "name": "stdout",
     "output_type": "stream",
     "text": [
      "Scaler: MinMaxScaler\n",
      "Linear Regression - MSE: 0.0069, MAE: 0.0556, RMSE: 0.0829, R2: 0.1312\n",
      "Decision Tree - MSE: 0.0070, MAE: 0.0544, RMSE: 0.0835, R2: 0.1177\n",
      "Random Forest - MSE: 0.0069, MAE: 0.0542, RMSE: 0.0831, R2: 0.1261\n",
      "Gradient Boosting - MSE: 0.0067, MAE: 0.0534, RMSE: 0.0816, R2: 0.1567\n",
      "-----------------------------\n",
      "Scaler: StandardScaler\n",
      "Linear Regression - MSE: 0.7840, MAE: 0.5944, RMSE: 0.8854, R2: 0.1312\n",
      "Decision Tree - MSE: 0.7920, MAE: 0.5808, RMSE: 0.8900, R2: 0.1222\n",
      "Random Forest - MSE: 0.7910, MAE: 0.5797, RMSE: 0.8894, R2: 0.1233\n",
      "Gradient Boosting - MSE: 0.7611, MAE: 0.5713, RMSE: 0.8724, R2: 0.1565\n",
      "-----------------------------\n",
      "Scaler: RobustScaler\n",
      "Linear Regression - MSE: 1.1264, MAE: 0.7125, RMSE: 1.0613, R2: 0.1312\n",
      "Decision Tree - MSE: 1.1386, MAE: 0.6963, RMSE: 1.0671, R2: 0.1217\n",
      "Random Forest - MSE: 1.1346, MAE: 0.6946, RMSE: 1.0652, R2: 0.1248\n",
      "Gradient Boosting - MSE: 1.0933, MAE: 0.6846, RMSE: 1.0456, R2: 0.1567\n",
      "-----------------------------\n",
      "Scaler: MaxAbsScaler\n",
      "Linear Regression - MSE: 0.0068, MAE: 0.0555, RMSE: 0.0827, R2: 0.1312\n",
      "Decision Tree - MSE: 0.0069, MAE: 0.0542, RMSE: 0.0831, R2: 0.1223\n",
      "Random Forest - MSE: 0.0069, MAE: 0.0541, RMSE: 0.0829, R2: 0.1260\n",
      "Gradient Boosting - MSE: 0.0066, MAE: 0.0534, RMSE: 0.0815, R2: 0.1563\n",
      "-----------------------------\n",
      "Scaler: QuantileTransformer\n",
      "Linear Regression - MSE: 0.0645, MAE: 0.2151, RMSE: 0.2539, R2: 0.1993\n",
      "Decision Tree - MSE: 0.0613, MAE: 0.2023, RMSE: 0.2475, R2: 0.2388\n",
      "Random Forest - MSE: 0.0608, MAE: 0.2017, RMSE: 0.2466, R2: 0.2447\n",
      "Gradient Boosting - MSE: 0.0598, MAE: 0.2032, RMSE: 0.2446, R2: 0.2568\n",
      "-----------------------------\n"
     ]
    }
   ],
   "source": [
    "scalers = [MinMaxScaler(), StandardScaler(), RobustScaler(), MaxAbsScaler(), QuantileTransformer()]\n",
    "\n",
    "models = {\n",
    "    \"Linear Regression\": LinearRegression(),\n",
    "    \"Decision Tree\": DecisionTreeRegressor(),\n",
    "    \"Random Forest\": RandomForestRegressor(),\n",
    "    \"Gradient Boosting\": GradientBoostingRegressor()\n",
    "}\n",
    "\n",
    "X = df_encoded_3_countries.drop(columns=[\"cost_per_goal\"])\n",
    "y = df_encoded_3_countries[\"cost_per_goal\"]\n",
    "\n",
    "for scaler in scalers:\n",
    "    scaled_y = scaler.fit_transform(y.values.reshape(-1, 1)).flatten()\n",
    "\n",
    "    X_train, X_test, y_train, y_test = train_test_split(X, scaled_y, test_size=0.15, random_state=42)\n",
    "\n",
    "    print(f\"Scaler: {scaler.__class__.__name__}\")\n",
    "    for name, model in models.items():\n",
    "        model.fit(X_train, y_train)\n",
    "\n",
    "        y_pred = model.predict(X_test)\n",
    "\n",
    "        y_pred_original_scale = scaler.inverse_transform(y_pred.reshape(-1, 1)).flatten()\n",
    "\n",
    "        mse = mean_squared_error(y_test, y_pred)\n",
    "        mae = mean_absolute_error(y_test, y_pred)\n",
    "        rmse = mean_squared_error(y_test, y_pred, squared=False)\n",
    "        r2 = r2_score(y_test, y_pred)\n",
    "\n",
    "        print(f\"{name} - MSE: {mse:.4f}, MAE: {mae:.4f}, RMSE: {rmse:.4f}, R2: {r2:.4f}\")\n",
    "\n",
    "    print(\"-----------------------------\")"
   ]
  },
  {
   "cell_type": "code",
   "execution_count": null,
   "id": "59df339e",
   "metadata": {},
   "outputs": [],
   "source": []
  },
  {
   "cell_type": "code",
   "execution_count": null,
   "id": "ee241b89",
   "metadata": {},
   "outputs": [],
   "source": [
    "#param_grid = {\n",
    "#    'n_estimators': [50, 100, 200],\n",
    "#    'learning_rate': [0.01, 0.1, 0.5],\n",
    "#    'max_depth': [3, 5, 7]\n",
    "#}\n",
    "\n",
    "#gb_regressor = GradientBoostingRegressor()\n",
    "\n",
    "#grid_search = GridSearchCV(gb_regressor, param_grid, cv=5, scoring='r2')\n",
    "\n",
    "#grid_search.fit(X_train, y_train)\n",
    "\n",
    "#best_params = grid_search.best_params_\n",
    "#best_score = grid_search.best_score_\n",
    "\n",
    "#print(\"Best Parameters:\", best_params)\n",
    "#print(\"Best Score:\", best_score)"
   ]
  },
  {
   "cell_type": "code",
   "execution_count": 230,
   "id": "eaae7c37",
   "metadata": {},
   "outputs": [
    {
     "name": "stdout",
     "output_type": "stream",
     "text": [
      "Evaluation Metrics:\n",
      "MSE: 0.0599\n",
      "MAE: 0.2009\n",
      "RMSE: 0.2448\n",
      "R2 Score: 0.2556\n"
     ]
    }
   ],
   "source": [
    "best_gb_regressor = GradientBoostingRegressor(learning_rate=0.5, max_depth=5, n_estimators=50)\n",
    "\n",
    "best_gb_regressor.fit(X_train, y_train)\n",
    "\n",
    "y_pred = best_gb_regressor.predict(X_test)\n",
    "\n",
    "mse = mean_squared_error(y_test, y_pred)\n",
    "mae = mean_absolute_error(y_test, y_pred)\n",
    "rmse = mean_squared_error(y_test, y_pred, squared=False)\n",
    "r2_metric = r2_score(y_test, y_pred)\n",
    "\n",
    "print(\"Evaluation Metrics:\")\n",
    "print(f\"MSE: {mse:.4f}\")\n",
    "print(f\"MAE: {mae:.4f}\")\n",
    "print(f\"RMSE: {rmse:.4f}\")\n",
    "print(f\"R2 Score: {r2_metric:.4f}\")"
   ]
  },
  {
   "cell_type": "code",
   "execution_count": null,
   "id": "23925f5f",
   "metadata": {},
   "outputs": [],
   "source": []
  },
  {
   "cell_type": "code",
   "execution_count": null,
   "id": "b41b4b50",
   "metadata": {},
   "outputs": [],
   "source": []
  },
  {
   "cell_type": "code",
   "execution_count": 231,
   "id": "e8edeca9",
   "metadata": {},
   "outputs": [
    {
     "data": {
      "text/plain": [
       "['best_gb_regressor_model.pkl']"
      ]
     },
     "execution_count": 231,
     "metadata": {},
     "output_type": "execute_result"
    }
   ],
   "source": [
    "model_file_path = \"best_gb_regressor_model.pkl\"\n",
    "joblib.dump(best_gb_regressor, model_file_path)"
   ]
  },
  {
   "cell_type": "code",
   "execution_count": 234,
   "id": "a81d60c7",
   "metadata": {},
   "outputs": [],
   "source": [
    "loaded_model = joblib.load('best_gb_regressor_model.pkl')"
   ]
  },
  {
   "cell_type": "code",
   "execution_count": null,
   "id": "82cc551c",
   "metadata": {},
   "outputs": [],
   "source": []
  },
  {
   "cell_type": "code",
   "execution_count": 96,
   "id": "b4864bc6",
   "metadata": {},
   "outputs": [],
   "source": []
  },
  {
   "cell_type": "code",
   "execution_count": 249,
   "id": "06a22a73",
   "metadata": {},
   "outputs": [
    {
     "name": "stdout",
     "output_type": "stream",
     "text": [
      "Please enter the following information:\n",
      "Vertical (Agriculture, Cars & Motorbikes, Fashion & Clothing, Home Improvement & Maintenance, Interior Design & Furniture, Business, Electronics, Food & Drinks, Pharmacy, Transport & Logistics, Health, Industrial, Animals & Pets, Environment, Real Estate, Others, Beauty, Legal & Law, Accommodation & Hotels, Flowers & Plants, Funeral Services, Restaurant, School, Security, Accounting): Home Improvement & Maintenance\n",
      "Advertiser Country (BE, PT, ES): PT\n",
      "Advertising Platform ID (bing, adwords, facebook): adwords\n",
      "Predicted cost_per_goal: 0.40640789147638345\n"
     ]
    }
   ],
   "source": [
    "vertical_options = df_clicks_filtered_3_countries['vertical'].unique()\n",
    "country_options = df_clicks_filtered_3_countries['advertiser_country'].unique()\n",
    "platform_options = df_clicks_filtered_3_countries['advertising_platform_id'].unique()\n",
    "\n",
    "print(\"Please enter the following information:\")\n",
    "vertical = input(f\"Vertical ({', '.join(vertical_options)}): \")\n",
    "country = input(f\"Advertiser Country ({', '.join(country_options)}): \")\n",
    "platform = input(f\"Advertising Platform ID ({', '.join(platform_options)}): \")\n",
    "\n",
    "user_data = pd.DataFrame({\n",
    "    'vertical': [vertical],\n",
    "    'advertiser_country': [country],\n",
    "    'advertising_platform_id': [platform]\n",
    "})\n",
    "\n",
    "user_data_encoded = pd.DataFrame(columns=df_encoded_3_countries.columns)\n",
    "user_data_encoded.loc[0] = 0\n",
    "user_data_encoded['vertical_' + vertical] = 1\n",
    "user_data_encoded['advertiser_country_' + country] = 1\n",
    "user_data_encoded['advertising_platform_id_' + platform] = 1\n",
    "\n",
    "user_data_encoded = user_data_encoded.drop(columns=['cost_per_goal'], errors='ignore')\n",
    "\n",
    "predictions = loaded_model.predict(user_data_encoded)\n",
    "\n",
    "print(\"Predicted cost_per_goal:\", predictions[0])"
   ]
  },
  {
   "cell_type": "code",
   "execution_count": 223,
   "id": "6ce1aa46",
   "metadata": {},
   "outputs": [],
   "source": [
    "csv_file_path = \"df_clicks_filtered.csv\"\n",
    "df_clicks_filtered.to_csv(csv_file_path, index=False)"
   ]
  },
  {
   "cell_type": "code",
   "execution_count": 250,
   "id": "a5dff550",
   "metadata": {},
   "outputs": [],
   "source": [
    "csv_file_path = \"data_for_model.csv\"\n",
    "df_encoded_3_countries.to_csv(csv_file_path, index=False)"
   ]
  },
  {
   "cell_type": "markdown",
   "id": "dbd05223",
   "metadata": {},
   "source": [
    "### Feature Selection"
   ]
  }
 ],
 "metadata": {
  "kernelspec": {
   "display_name": "Python 3 (ipykernel)",
   "language": "python",
   "name": "python3"
  },
  "language_info": {
   "codemirror_mode": {
    "name": "ipython",
    "version": 3
   },
   "file_extension": ".py",
   "mimetype": "text/x-python",
   "name": "python",
   "nbconvert_exporter": "python",
   "pygments_lexer": "ipython3",
   "version": "3.11.5"
  }
 },
 "nbformat": 4,
 "nbformat_minor": 5
}
